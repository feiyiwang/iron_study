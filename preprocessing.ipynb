{
 "cells": [
  {
   "cell_type": "code",
   "execution_count": 269,
   "id": "36aa4f5e-fa2c-4235-a94f-d93bad486460",
   "metadata": {},
   "outputs": [],
   "source": [
    "import re\n",
    "import pandas as pd\n",
    "import tqdm, time"
   ]
  },
  {
   "cell_type": "markdown",
   "id": "935f4181-5d94-467c-9a4f-37a0c518fb2f",
   "metadata": {},
   "source": [
    "#### 1. generate a txt file with format chrN:12345678-12345678 using chromosome and hg19_position from file all_variants_and_proxies.csv"
   ]
  },
  {
   "cell_type": "code",
   "execution_count": 3,
   "id": "94cceed0-e4a2-4ae8-ba05-2b0409b333ff",
   "metadata": {},
   "outputs": [],
   "source": [
    "df = pd.read_csv('~/Documents/Materials/iron/all_variants_and_proxies.csv')\n",
    "# df['format'] = 'chr'+df.chromosome.astype(str)+':'+df.hg19_position.astype(str)+'-'+df.hg19_position.astype(str)\n",
    "# df['format'].to_csv('~/Documents/Projects/iron/variants_hg19.txt', index=False) "
   ]
  },
  {
   "cell_type": "markdown",
   "id": "70f47fe2-55a2-4696-a911-6dfbc8b02b27",
   "metadata": {},
   "source": [
    "#### 2. convert hg19 coordinates to hg38 coordinates using liftover tool: \n",
    "https://genome.ucsc.edu/cgi-bin/hgLiftOver\n",
    "\n",
    "#### 3. rename the file downloaded from the tool as variants_hg19.bed and then add it to all_variants_and_proxies.csv"
   ]
  },
  {
   "cell_type": "code",
   "execution_count": 7,
   "id": "d0b05bf5-d715-400f-83e5-31fb9453d00b",
   "metadata": {},
   "outputs": [],
   "source": [
    "df0 = pd.read_csv('~/Documents/Materials/iron/variants_hg38.bed', header=None) \n",
    "df['hg38_position'] = df0[0].str.extract('\\:(\\d+)\\-') \n",
    "df.to_csv('~/Documents/Materials/iron/all_variants_and_proxies.csv', index=False)"
   ]
  },
  {
   "cell_type": "markdown",
   "id": "5bdba3f7-b4b6-43bf-9eba-ec851291d815",
   "metadata": {},
   "source": [
    "#### 4. scrape off head and AF from https://results.finngen.fi/ using rsid\n",
    "backend of finngen dashboard: https://github.com/FINNGEN/saige-pipelines/blob/master/wdl/gwas/saige.json\n",
    "\n",
    "e.g. Given rs1961437,\n",
    "\n",
    "```head = '22:37114993:A:G (rs1961437)'``` \n",
    "\n",
    "```str_af = 'AF 9.1e-1(ranges from 9.1e-1 to 9.1e-1 across all phenotypes)'```\n",
    "\n",
    "```af = 0.91```"
   ]
  },
  {
   "cell_type": "code",
   "execution_count": 33,
   "id": "797b1d4b-7840-49a4-b5a5-96d3f5b7123f",
   "metadata": {},
   "outputs": [
    {
     "name": "stderr",
     "output_type": "stream",
     "text": [
      "/Library/Frameworks/Python.framework/Versions/3.7/lib/python3.7/site-packages/ipykernel_launcher.py:4: DeprecationWarning: executable_path has been deprecated, please pass in a Service object\n",
      "  after removing the cwd from sys.path.\n"
     ]
    }
   ],
   "source": [
    "from selenium import webdriver\n",
    "from selenium.webdriver.common.by import By\n",
    "from selenium.webdriver.common.keys import Keys\n",
    "from selenium.webdriver.chrome.service import Service\n",
    "browser = webdriver.Chrome(Service('/Users/feiwang/Documents/Projects/chromedriver'))\n",
    "browser.get('https://results.finngen.fi/')"
   ]
  },
  {
   "cell_type": "code",
   "execution_count": 160,
   "id": "023b50d4-b780-44e2-b4e7-11e453d8f13f",
   "metadata": {
    "tags": []
   },
   "outputs": [
    {
     "name": "stderr",
     "output_type": "stream",
     "text": [
      "  0%|          | 0/1039 [00:00<?, ?it/s]/Library/Frameworks/Python.framework/Versions/3.7/lib/python3.7/site-packages/ipykernel_launcher.py:10: DeprecationWarning: find_element_by_* commands are deprecated. Please use find_element() instead\n",
      "  # Remove the CWD from sys.path while we load stuff.\n",
      "/Library/Frameworks/Python.framework/Versions/3.7/lib/python3.7/site-packages/ipykernel_launcher.py:11: DeprecationWarning: find_element_by_* commands are deprecated. Please use find_element() instead\n",
      "  # This is added back by InteractiveShellApp.init_path()\n",
      "/Library/Frameworks/Python.framework/Versions/3.7/lib/python3.7/site-packages/ipykernel_launcher.py:14: DeprecationWarning: find_element_by_* commands are deprecated. Please use find_element() instead\n",
      "  \n",
      "/Library/Frameworks/Python.framework/Versions/3.7/lib/python3.7/site-packages/ipykernel_launcher.py:22: DeprecationWarning: find_element_by_* commands are deprecated. Please use find_element() instead\n",
      "100%|██████████| 1039/1039 [1:50:57<00:00,  6.41s/it] \n"
     ]
    }
   ],
   "source": [
    "finngen_format_list, finngen_af_list = [], []\n",
    "\n",
    "for i in tqdm.tqdm(df.rsid.tolist()):\n",
    "#     browser.get('https://results.finngen.fi/variant/'+1:22227885-T-C)\n",
    "    # there are 9 SNPs without rsid in the file\n",
    "    if type(i) == float:\n",
    "        finngen_format_list.append('id isna')\n",
    "        finngen_eaf_list.append('id isna')\n",
    "    else:\n",
    "        browser.find_element(By.XPATH, '//*[@id=\"navbar-searchbox-input\"]').send_keys(i)\n",
    "        browser.find_element(By.XPATH, '//*[@id=\"navbar-searchbox-input\"]').send_keys(Keys.RETURN)\n",
    "        time.sleep(5)\n",
    "        try:\n",
    "            head = browser.find_element(By.XPATH, '/html/body/div/div[1]/div/h1').text\n",
    "        except:\n",
    "    #         err = browser.find_element_by_xpath('//*[@id=\"reactEntry\"]/div/div/div/p[1]').text\n",
    "            head = 'id notfound'\n",
    "        if head == 'id notfound':\n",
    "            eaf = 'id notfound'\n",
    "        else:\n",
    "            try:\n",
    "                str_af = browser.find_element(By.XPATH, '//*[@id=\"maf-range\"]/p').text\n",
    "                af = float(re.findall('AF ([\\d|\\.|e|\\-]+)\\(ranges', str_eaf)[0])\n",
    "            except:\n",
    "                af = 'eaf notfound'\n",
    "\n",
    "        finngen_format_list.append(head)\n",
    "        finngen_af_list.append(af)\n",
    "        time.sleep(1)"
   ]
  },
  {
   "cell_type": "code",
   "execution_count": 169,
   "id": "fab22e77-baa7-4739-a332-1935f4e17e9c",
   "metadata": {},
   "outputs": [],
   "source": [
    "df['finn_format'] = finngen_format_list\n",
    "df['finn_af'] = finngen_af_list"
   ]
  },
  {
   "cell_type": "code",
   "execution_count": 198,
   "id": "0a849fb2-e6a4-4e68-8192-351187ecbf40",
   "metadata": {},
   "outputs": [],
   "source": [
    "df['finn_rsid'] = df.finn_format.str.extract(' \\((rs\\d+)\\)')\n",
    "df['finn_ref'] = df.finn_format.str.extract(':(\\w+):\\w+ \\(')\n",
    "df['finn_alt'] = df.finn_format.str.extract(':\\w+:(\\w+) \\(')"
   ]
  },
  {
   "cell_type": "code",
   "execution_count": 199,
   "id": "487270fd-aab7-4071-bc2a-3b7e935c9b9c",
   "metadata": {},
   "outputs": [],
   "source": [
    "df['match'] = df.finn_rsid == df.rsid"
   ]
  },
  {
   "cell_type": "code",
   "execution_count": 204,
   "id": "32ad91bf-2ff5-407f-a7c9-7968685c7add",
   "metadata": {},
   "outputs": [],
   "source": [
    "for i, row in df[(df.match == False)&(df.finn_rsid.isna())&(df.finn_format != 'id notfound')].iterrows():\n",
    "    id_list = re.findall('(rs\\d+)',row.finn_format)\n",
    "    if row.rsid in id_list:\n",
    "        df.loc[i,'finn_rsid'] = row.rsid\n",
    "        df.loc[i,'match'] = True"
   ]
  },
  {
   "cell_type": "code",
   "execution_count": 245,
   "id": "fea2c101-1b1e-4cce-bbe6-9fafaa466dd5",
   "metadata": {},
   "outputs": [
    {
     "name": "stdout",
     "output_type": "stream",
     "text": [
      "514 cannot be found unfortunately\n",
      "2672 were found successfully\n"
     ]
    }
   ],
   "source": [
    "print(len(df[df.match == False]),'cannot be found unfortunately')\n",
    "print(len(df)-len(df[df.match == False]),'were found successfully')"
   ]
  },
  {
   "cell_type": "markdown",
   "id": "768e9dc4-c6b7-422a-af66-9cd6ade087f8",
   "metadata": {},
   "source": [
    "#### 5. create a list of format that can be recognized in finngen sandbox"
   ]
  },
  {
   "cell_type": "code",
   "execution_count": 241,
   "id": "161862fd-0c43-41fd-8f1a-d0751c50bf68",
   "metadata": {},
   "outputs": [],
   "source": [
    "df['finn_hg38'] = df.finn_format.str.extract('\\d{1,2}\\:(\\d+)\\:\\w+\\:')\n",
    "df['sandbox_format'] = 'chr'+df.chromosome.astype(str)+'_'+df.finn_hg38+'_'+df.finn_ref+'_'+df.finn_alt\n",
    "df.to_csv('~/Documents/Materials/iron/all_variants_and_proxies.csv', index=False)"
   ]
  },
  {
   "cell_type": "markdown",
   "id": "6205f72d-2a4e-4bc4-835a-9ca3acc8bea8",
   "metadata": {},
   "source": [
    "#### 6. obtain phecode_map from PheWAS package in R\n",
    "See phecode_map.R for detail\n",
    "#### 7. label if a PheCode is sex-specified\n",
    "Download sex-specified PheCode dictionary from https://phewascatalog.org/files/phecode_definitions1.2.csv.zip"
   ]
  },
  {
   "cell_type": "code",
   "execution_count": 411,
   "id": "65d8636e-face-45bb-a587-d41e8b2d7086",
   "metadata": {},
   "outputs": [],
   "source": [
    "phecode_map = pd.read_csv('~/Documents/Materials/iron/phecode_map.csv') \n",
    "phecode_def = pd.read_csv('~/Documents/Materials/iron/phecode_definitions1.2.csv') \n",
    "phecode_list = phecode_map.phecode.unique().tolist()\n",
    "phecode_dict = pd.DataFrame({'phecode':phecode_list})\n",
    "phecode_dict = phecode_dict.merge(phecode_def[['phecode','sex']], 'left')"
   ]
  },
  {
   "cell_type": "code",
   "execution_count": 416,
   "id": "b579f1b5-0f9e-4cb0-8550-efd223a1bac5",
   "metadata": {},
   "outputs": [],
   "source": [
    "phecode_sex = phecode_dict[(~phecode_dict.sex.isna())&(phecode_dict.sex != 'Both')]\n",
    "# in total 166 sex-specified phecodes\n",
    "phecode_sex.to_csv('~/Documents/Materials/iron/phecode_sex.csv', index=None)"
   ]
  },
  {
   "cell_type": "markdown",
   "id": "7f884619-c582-4c7a-8645-79e72c54dc2e",
   "metadata": {},
   "source": [
    "#### 8. upload the files to green bucket: \n",
    "https://console.cloud.google.com/storage/browser/fg-production-sandbox-6_green\n",
    "\n",
    "gsutil cp ~/Documents/Materials/iron/all_variants_and_proxies.csv gs://fg-production-sandbox-6_green/FeiyiWang\n",
    "\n",
    "gsutil cp ~/Documents/Materials/iron/phecode_map.csv gs://fg-production-sandbox-6_green/FeiyiWang\n",
    "\n",
    "gsutil cp ~/Documents/Materials/iron/phecode_sex.csv gs://fg-production-sandbox-6_green/FeiyiWang"
   ]
  },
  {
   "cell_type": "code",
   "execution_count": 328,
   "id": "ef05fa2e-1652-40c6-b060-d888598a3f3a",
   "metadata": {},
   "outputs": [],
   "source": [
    "import statsmodels.api as sm\n",
    "from sklearn import datasets"
   ]
  },
  {
   "cell_type": "code",
   "execution_count": 332,
   "id": "b557226c-fa25-41d9-be6a-4dfb4f797f1d",
   "metadata": {},
   "outputs": [
    {
     "name": "stdout",
     "output_type": "stream",
     "text": [
      "Optimization terminated successfully.\n",
      "         Current function value: 0.573147\n",
      "         Iterations 6\n",
      "                           Logit Regression Results                           \n",
      "==============================================================================\n",
      "Dep. Variable:                  admit   No. Observations:                  400\n",
      "Model:                          Logit   Df Residuals:                      394\n",
      "Method:                           MLE   Df Model:                            5\n",
      "Date:                Wed, 09 Mar 2022   Pseudo R-squ.:                 0.08292\n",
      "Time:                        11:10:29   Log-Likelihood:                -229.26\n",
      "converged:                       True   LL-Null:                       -249.99\n",
      "Covariance Type:            nonrobust   LLR p-value:                 7.578e-08\n",
      "==============================================================================\n",
      "                 coef    std err          z      P>|z|      [0.025      0.975]\n",
      "------------------------------------------------------------------------------\n",
      "const         -3.9900      1.140     -3.500      0.000      -6.224      -1.756\n",
      "gre            0.0023      0.001      2.070      0.038       0.000       0.004\n",
      "gpa            0.8040      0.332      2.423      0.015       0.154       1.454\n",
      "2             -0.6754      0.316     -2.134      0.033      -1.296      -0.055\n",
      "3             -1.3402      0.345     -3.881      0.000      -2.017      -0.663\n",
      "4             -1.5515      0.418     -3.713      0.000      -2.370      -0.733\n",
      "==============================================================================\n"
     ]
    }
   ],
   "source": [
    "X = sm.add_constant(x_train)\n",
    "est = sm.Logit(y_train, X).fit()\n",
    "print(est.summary())"
   ]
  },
  {
   "cell_type": "code",
   "execution_count": 387,
   "id": "b0d86764-6ee5-4a88-ae0b-5c7b998a5c8b",
   "metadata": {},
   "outputs": [
    {
     "data": {
      "text/html": [
       "<div>\n",
       "<style scoped>\n",
       "    .dataframe tbody tr th:only-of-type {\n",
       "        vertical-align: middle;\n",
       "    }\n",
       "\n",
       "    .dataframe tbody tr th {\n",
       "        vertical-align: top;\n",
       "    }\n",
       "\n",
       "    .dataframe thead th {\n",
       "        text-align: right;\n",
       "    }\n",
       "</style>\n",
       "<table border=\"1\" class=\"dataframe\">\n",
       "  <thead>\n",
       "    <tr style=\"text-align: right;\">\n",
       "      <th></th>\n",
       "      <th>Coef.</th>\n",
       "      <th>Std.Err.</th>\n",
       "      <th>z</th>\n",
       "      <th>P&gt;|z|</th>\n",
       "      <th>[0.025</th>\n",
       "      <th>0.975]</th>\n",
       "    </tr>\n",
       "  </thead>\n",
       "  <tbody>\n",
       "    <tr>\n",
       "      <th>const</th>\n",
       "      <td>-3.989979</td>\n",
       "      <td>1.139951</td>\n",
       "      <td>-3.500132</td>\n",
       "      <td>0.000465</td>\n",
       "      <td>-6.224242</td>\n",
       "      <td>-1.755716</td>\n",
       "    </tr>\n",
       "    <tr>\n",
       "      <th>gre</th>\n",
       "      <td>0.002264</td>\n",
       "      <td>0.001094</td>\n",
       "      <td>2.069863</td>\n",
       "      <td>0.038465</td>\n",
       "      <td>0.000120</td>\n",
       "      <td>0.004409</td>\n",
       "    </tr>\n",
       "    <tr>\n",
       "      <th>gpa</th>\n",
       "      <td>0.804038</td>\n",
       "      <td>0.331819</td>\n",
       "      <td>2.423119</td>\n",
       "      <td>0.015388</td>\n",
       "      <td>0.153684</td>\n",
       "      <td>1.454391</td>\n",
       "    </tr>\n",
       "    <tr>\n",
       "      <th>2</th>\n",
       "      <td>-0.675443</td>\n",
       "      <td>0.316490</td>\n",
       "      <td>-2.134171</td>\n",
       "      <td>0.032829</td>\n",
       "      <td>-1.295751</td>\n",
       "      <td>-0.055135</td>\n",
       "    </tr>\n",
       "    <tr>\n",
       "      <th>3</th>\n",
       "      <td>-1.340204</td>\n",
       "      <td>0.345306</td>\n",
       "      <td>-3.881202</td>\n",
       "      <td>0.000104</td>\n",
       "      <td>-2.016992</td>\n",
       "      <td>-0.663416</td>\n",
       "    </tr>\n",
       "    <tr>\n",
       "      <th>4</th>\n",
       "      <td>-1.551464</td>\n",
       "      <td>0.417832</td>\n",
       "      <td>-3.713131</td>\n",
       "      <td>0.000205</td>\n",
       "      <td>-2.370399</td>\n",
       "      <td>-0.732529</td>\n",
       "    </tr>\n",
       "  </tbody>\n",
       "</table>\n",
       "</div>"
      ],
      "text/plain": [
       "          Coef.  Std.Err.         z     P>|z|    [0.025    0.975]\n",
       "const -3.989979  1.139951 -3.500132  0.000465 -6.224242 -1.755716\n",
       "gre    0.002264  0.001094  2.069863  0.038465  0.000120  0.004409\n",
       "gpa    0.804038  0.331819  2.423119  0.015388  0.153684  1.454391\n",
       "2     -0.675443  0.316490 -2.134171  0.032829 -1.295751 -0.055135\n",
       "3     -1.340204  0.345306 -3.881202  0.000104 -2.016992 -0.663416\n",
       "4     -1.551464  0.417832 -3.713131  0.000205 -2.370399 -0.732529"
      ]
     },
     "execution_count": 387,
     "metadata": {},
     "output_type": "execute_result"
    }
   ],
   "source": [
    "a = est.summary2().tables[1].loc['gre',:]\n",
    "a"
   ]
  },
  {
   "cell_type": "code",
   "execution_count": 405,
   "id": "aeabe491-b3cc-4bfb-879e-f546ed2935d9",
   "metadata": {},
   "outputs": [
    {
     "data": {
      "text/html": [
       "<div>\n",
       "<style scoped>\n",
       "    .dataframe tbody tr th:only-of-type {\n",
       "        vertical-align: middle;\n",
       "    }\n",
       "\n",
       "    .dataframe tbody tr th {\n",
       "        vertical-align: top;\n",
       "    }\n",
       "\n",
       "    .dataframe thead th {\n",
       "        text-align: right;\n",
       "    }\n",
       "</style>\n",
       "<table border=\"1\" class=\"dataframe\">\n",
       "  <thead>\n",
       "    <tr style=\"text-align: right;\">\n",
       "      <th></th>\n",
       "      <th>Coef.</th>\n",
       "      <th>Std.Err.</th>\n",
       "      <th>z</th>\n",
       "      <th>P&gt;|z|</th>\n",
       "      <th>phecode</th>\n",
       "    </tr>\n",
       "  </thead>\n",
       "  <tbody>\n",
       "    <tr>\n",
       "      <th>gre</th>\n",
       "      <td>0.002264</td>\n",
       "      <td>0.001094</td>\n",
       "      <td>2.069863</td>\n",
       "      <td>0.038465</td>\n",
       "      <td>8.1</td>\n",
       "    </tr>\n",
       "  </tbody>\n",
       "</table>\n",
       "</div>"
      ],
      "text/plain": [
       "        Coef.  Std.Err.         z     P>|z|  phecode\n",
       "gre  0.002264  0.001094  2.069863  0.038465      8.1"
      ]
     },
     "execution_count": 405,
     "metadata": {},
     "output_type": "execute_result"
    }
   ],
   "source": [
    "b = pd.DataFrame(columns=['Coef.','Std.Err.','z','P>|z|','phecode'])\n",
    "a = est.summary2().tables[1].loc['gre',['Coef.','Std.Err.','z','P>|z|']]\n",
    "a['phecode'] = 8.1\n",
    "b.append(a)"
   ]
  },
  {
   "cell_type": "markdown",
   "id": "bc6b19e3-1d5d-4481-8b92-f05ce802b732",
   "metadata": {},
   "source": [
    "What tripped me up:\n",
    "\n",
    "- disable sklearn regularization LogisticRegression(C=1e9)\n",
    "- add statsmodels intercept sm.Logit(y,sm.add_constant(X)) OR disable sklearn intercept LogisticRegression(C=1e9,fit_intercept=False)\n",
    "- sklearn returns probability for each class so model_sklearn.predict_proba(X)[:,1] == model_statsmodel.predict(X)\n",
    "- Use of predict fucntion model_sklearn.predict(X) == (model_statsmodel.predict(X)>0.5).astype(int)\n",
    "\n",
    "I'm now seeing the same results in both libraries."
   ]
  }
 ],
 "metadata": {
  "kernelspec": {
   "display_name": "Python 3",
   "language": "python",
   "name": "python3"
  },
  "language_info": {
   "codemirror_mode": {
    "name": "ipython",
    "version": 3
   },
   "file_extension": ".py",
   "mimetype": "text/x-python",
   "name": "python",
   "nbconvert_exporter": "python",
   "pygments_lexer": "ipython3",
   "version": "3.7.9"
  }
 },
 "nbformat": 4,
 "nbformat_minor": 5
}
