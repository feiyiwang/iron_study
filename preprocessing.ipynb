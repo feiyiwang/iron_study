{
 "cells": [
  {
   "cell_type": "code",
   "execution_count": 269,
   "id": "36aa4f5e-fa2c-4235-a94f-d93bad486460",
   "metadata": {},
   "outputs": [],
   "source": [
    "import re\n",
    "import pandas as pd\n",
    "import tqdm, time"
   ]
  },
  {
   "cell_type": "markdown",
   "id": "935f4181-5d94-467c-9a4f-37a0c518fb2f",
   "metadata": {},
   "source": [
    "#### 1. generate a txt file with format chrN:12345678-12345678 using chromosome and hg19_position from file all_variants_and_proxies.csv"
   ]
  },
  {
   "cell_type": "code",
   "execution_count": 3,
   "id": "94cceed0-e4a2-4ae8-ba05-2b0409b333ff",
   "metadata": {},
   "outputs": [],
   "source": [
    "df = pd.read_csv('~/Documents/Materials/iron/all_variants_and_proxies.csv')\n",
    "# df['format'] = 'chr'+df.chromosome.astype(str)+':'+df.hg19_position.astype(str)+'-'+df.hg19_position.astype(str)\n",
    "# df['format'].to_csv('~/Documents/Projects/iron/variants_hg19.txt', index=False) "
   ]
  },
  {
   "cell_type": "markdown",
   "id": "70f47fe2-55a2-4696-a911-6dfbc8b02b27",
   "metadata": {},
   "source": [
    "#### 2. convert hg19 coordinates to hg38 coordinates using liftover tool: \n",
    "https://genome.ucsc.edu/cgi-bin/hgLiftOver\n",
    "\n",
    "#### 3. rename the file downloaded from the tool as variants_hg19.bed and then add it to all_variants_and_proxies.csv"
   ]
  },
  {
   "cell_type": "code",
   "execution_count": 7,
   "id": "d0b05bf5-d715-400f-83e5-31fb9453d00b",
   "metadata": {},
   "outputs": [],
   "source": [
    "df0 = pd.read_csv('~/Documents/Materials/iron/variants_hg38.bed', header=None) \n",
    "df['hg38_position'] = df0[0].str.extract('\\:(\\d+)\\-') \n",
    "df.to_csv('~/Documents/Materials/iron/all_variants_and_proxies.csv', index=False)"
   ]
  },
  {
   "cell_type": "markdown",
   "id": "5bdba3f7-b4b6-43bf-9eba-ec851291d815",
   "metadata": {},
   "source": [
    "#### 4. scrape off head and AF from https://results.finngen.fi/ using rsid\n",
    "backend of finngen dashboard: https://github.com/FINNGEN/saige-pipelines/blob/master/wdl/gwas/saige.json\n",
    "\n",
    "e.g. Given rs1961437,\n",
    "\n",
    "```head = '22:37114993:A:G (rs1961437)'``` \n",
    "\n",
    "```str_af = 'AF 9.1e-1(ranges from 9.1e-1 to 9.1e-1 across all phenotypes)'```\n",
    "\n",
    "```af = 0.91```"
   ]
  },
  {
   "cell_type": "code",
   "execution_count": 33,
   "id": "797b1d4b-7840-49a4-b5a5-96d3f5b7123f",
   "metadata": {},
   "outputs": [
    {
     "name": "stderr",
     "output_type": "stream",
     "text": [
      "/Library/Frameworks/Python.framework/Versions/3.7/lib/python3.7/site-packages/ipykernel_launcher.py:4: DeprecationWarning: executable_path has been deprecated, please pass in a Service object\n",
      "  after removing the cwd from sys.path.\n"
     ]
    }
   ],
   "source": [
    "from selenium import webdriver\n",
    "from selenium.webdriver.common.by import By\n",
    "from selenium.webdriver.common.keys import Keys\n",
    "from selenium.webdriver.chrome.service import Service\n",
    "browser = webdriver.Chrome(Service('/Users/feiwang/Documents/Projects/chromedriver'))\n",
    "browser.get('https://results.finngen.fi/')"
   ]
  },
  {
   "cell_type": "code",
   "execution_count": 160,
   "id": "023b50d4-b780-44e2-b4e7-11e453d8f13f",
   "metadata": {
    "tags": []
   },
   "outputs": [
    {
     "name": "stderr",
     "output_type": "stream",
     "text": [
      "  0%|          | 0/1039 [00:00<?, ?it/s]/Library/Frameworks/Python.framework/Versions/3.7/lib/python3.7/site-packages/ipykernel_launcher.py:10: DeprecationWarning: find_element_by_* commands are deprecated. Please use find_element() instead\n",
      "  # Remove the CWD from sys.path while we load stuff.\n",
      "/Library/Frameworks/Python.framework/Versions/3.7/lib/python3.7/site-packages/ipykernel_launcher.py:11: DeprecationWarning: find_element_by_* commands are deprecated. Please use find_element() instead\n",
      "  # This is added back by InteractiveShellApp.init_path()\n",
      "/Library/Frameworks/Python.framework/Versions/3.7/lib/python3.7/site-packages/ipykernel_launcher.py:14: DeprecationWarning: find_element_by_* commands are deprecated. Please use find_element() instead\n",
      "  \n",
      "/Library/Frameworks/Python.framework/Versions/3.7/lib/python3.7/site-packages/ipykernel_launcher.py:22: DeprecationWarning: find_element_by_* commands are deprecated. Please use find_element() instead\n",
      "100%|██████████| 1039/1039 [1:50:57<00:00,  6.41s/it] \n"
     ]
    }
   ],
   "source": [
    "finngen_format_list, finngen_af_list = [], []\n",
    "\n",
    "for i in tqdm.tqdm(df.rsid.tolist()):\n",
    "#     browser.get('https://results.finngen.fi/variant/'+1:22227885-T-C)\n",
    "    # there are 9 SNPs without rsid in the file\n",
    "    if type(i) == float:\n",
    "        finngen_format_list.append('id isna')\n",
    "        finngen_eaf_list.append('id isna')\n",
    "    else:\n",
    "        browser.find_element(By.XPATH, '//*[@id=\"navbar-searchbox-input\"]').send_keys(i)\n",
    "        browser.find_element(By.XPATH, '//*[@id=\"navbar-searchbox-input\"]').send_keys(Keys.RETURN)\n",
    "        time.sleep(5)\n",
    "        try:\n",
    "            head = browser.find_element(By.XPATH, '/html/body/div/div[1]/div/h1').text\n",
    "        except:\n",
    "    #         err = browser.find_element_by_xpath('//*[@id=\"reactEntry\"]/div/div/div/p[1]').text\n",
    "            head = 'id notfound'\n",
    "        if head == 'id notfound':\n",
    "            eaf = 'id notfound'\n",
    "        else:\n",
    "            try:\n",
    "                str_af = browser.find_element(By.XPATH, '//*[@id=\"maf-range\"]/p').text\n",
    "                af = float(re.findall('AF ([\\d|\\.|e|\\-]+)\\(ranges', str_eaf)[0])\n",
    "            except:\n",
    "                af = 'eaf notfound'\n",
    "\n",
    "        finngen_format_list.append(head)\n",
    "        finngen_af_list.append(af)\n",
    "        time.sleep(1)"
   ]
  },
  {
   "cell_type": "code",
   "execution_count": 169,
   "id": "fab22e77-baa7-4739-a332-1935f4e17e9c",
   "metadata": {},
   "outputs": [],
   "source": [
    "df['finn_format'] = finngen_format_list\n",
    "df['finn_af'] = finngen_af_list"
   ]
  },
  {
   "cell_type": "code",
   "execution_count": 198,
   "id": "0a849fb2-e6a4-4e68-8192-351187ecbf40",
   "metadata": {},
   "outputs": [],
   "source": [
    "df['finn_rsid'] = df.finn_format.str.extract(' \\((rs\\d+)\\)')\n",
    "df['finn_ref'] = df.finn_format.str.extract(':(\\w+):\\w+ \\(')\n",
    "df['finn_alt'] = df.finn_format.str.extract(':\\w+:(\\w+) \\(')"
   ]
  },
  {
   "cell_type": "code",
   "execution_count": 199,
   "id": "487270fd-aab7-4071-bc2a-3b7e935c9b9c",
   "metadata": {},
   "outputs": [],
   "source": [
    "df['match'] = df.finn_rsid == df.rsid"
   ]
  },
  {
   "cell_type": "code",
   "execution_count": 204,
   "id": "32ad91bf-2ff5-407f-a7c9-7968685c7add",
   "metadata": {},
   "outputs": [],
   "source": [
    "for i, row in df[(df.match == False)&(df.finn_rsid.isna())&(df.finn_format != 'id notfound')].iterrows():\n",
    "    id_list = re.findall('(rs\\d+)',row.finn_format)\n",
    "    if row.rsid in id_list:\n",
    "        df.loc[i,'finn_rsid'] = row.rsid\n",
    "        df.loc[i,'match'] = True"
   ]
  },
  {
   "cell_type": "code",
   "execution_count": 245,
   "id": "fea2c101-1b1e-4cce-bbe6-9fafaa466dd5",
   "metadata": {},
   "outputs": [
    {
     "name": "stdout",
     "output_type": "stream",
     "text": [
      "514 cannot be found unfortunately\n",
      "2672 were found successfully\n"
     ]
    }
   ],
   "source": [
    "print(len(df[df.match == False]),'cannot be found unfortunately')\n",
    "print(len(df)-len(df[df.match == False]),'were found successfully')"
   ]
  },
  {
   "cell_type": "markdown",
   "id": "768e9dc4-c6b7-422a-af66-9cd6ade087f8",
   "metadata": {},
   "source": [
    "#### 5. create a list of format that can be recognized in finngen sandbox"
   ]
  },
  {
   "cell_type": "code",
   "execution_count": 241,
   "id": "161862fd-0c43-41fd-8f1a-d0751c50bf68",
   "metadata": {},
   "outputs": [],
   "source": [
    "df['finn_hg38'] = df.finn_format.str.extract('\\d{1,2}\\:(\\d+)\\:\\w+\\:')\n",
    "df['sandbox_format'] = 'chr'+df.chromosome.astype(str)+'_'+df.finn_hg38+'_'+df.finn_ref+'_'+df.finn_alt\n",
    "df.to_csv('~/Documents/Materials/iron/all_variants_and_proxies.csv', index=False)"
   ]
  },
  {
   "cell_type": "markdown",
   "id": "6205f72d-2a4e-4bc4-835a-9ca3acc8bea8",
   "metadata": {},
   "source": [
    "#### 6. obtain phecode_map from PheWAS package in R\n",
    "See phecode_map.R for detail\n",
    "#### 7. label if a PheCode is sex-specified\n",
    "Download sex-specified PheCode dictionary from https://phewascatalog.org/files/phecode_definitions1.2.csv.zip"
   ]
  },
  {
   "cell_type": "code",
   "execution_count": 411,
   "id": "65d8636e-face-45bb-a587-d41e8b2d7086",
   "metadata": {},
   "outputs": [],
   "source": [
    "phecode_map = pd.read_csv('~/Documents/Materials/iron/phecode_map.csv') \n",
    "phecode_def = pd.read_csv('~/Documents/Materials/iron/phecode_definitions1.2.csv') \n",
    "phecode_list = phecode_map.phecode.unique().tolist()\n",
    "phecode_dict = pd.DataFrame({'phecode':phecode_list})\n",
    "phecode_dict = phecode_dict.merge(phecode_def[['phecode','sex']], 'left')"
   ]
  },
  {
   "cell_type": "code",
   "execution_count": 416,
   "id": "b579f1b5-0f9e-4cb0-8550-efd223a1bac5",
   "metadata": {},
   "outputs": [],
   "source": [
    "phecode_sex = phecode_dict[(~phecode_dict.sex.isna())&(phecode_dict.sex != 'Both')]\n",
    "# in total 166 sex-specified phecodes\n",
    "phecode_sex.to_csv('~/Documents/Materials/iron/phecode_sex.csv', index=None)"
   ]
  },
  {
   "cell_type": "markdown",
   "id": "7f884619-c582-4c7a-8645-79e72c54dc2e",
   "metadata": {},
   "source": [
    "#### 8. upload the files to green bucket: \n",
    "https://console.cloud.google.com/storage/browser/fg-production-sandbox-6_green\n",
    "\n",
    "gsutil cp ~/Documents/Materials/iron/all_variants_and_proxies.csv gs://fg-production-sandbox-6_green/FeiyiWang\n",
    "\n",
    "gsutil cp ~/Documents/Materials/iron/phecode_map.csv gs://fg-production-sandbox-6_green/FeiyiWang\n",
    "\n",
    "gsutil cp ~/Documents/Materials/iron/phecode_sex.csv gs://fg-production-sandbox-6_green/FeiyiWang"
   ]
  },
  {
   "cell_type": "code",
   "execution_count": null,
   "id": "30f9c3a6-2568-417e-ad35-c308acce0df6",
   "metadata": {},
   "outputs": [],
   "source": []
  },
  {
   "cell_type": "code",
   "execution_count": 430,
   "id": "ef05fa2e-1652-40c6-b060-d888598a3f3a",
   "metadata": {},
   "outputs": [],
   "source": [
    "import statsmodels.api as sm\n",
    "import researchpy as rp\n",
    "from sklearn.linear_model import LogisticRegression"
   ]
  },
  {
   "cell_type": "code",
   "execution_count": 465,
   "id": "c207b374-c8dd-4a30-968f-4767e5aaaa67",
   "metadata": {},
   "outputs": [],
   "source": [
    "def get_summary(X, y, model):\n",
    "    \"\"\"\n",
    "    :param model: a model for training\n",
    "    :param X: a DataFrame of inputs\n",
    "    :param y: a Series of output\n",
    "    :return: a DataFrame of key statistics\n",
    "    \"\"\"\n",
    "    model = model.fit(X, y)\n",
    "    coef = np.append(model.intercept_, model.coef_)\n",
    "    X_matrix = np.append(np.ones((len(X), 1)), X, axis=1)\n",
    "    y_hat = model.predict(X)\n",
    "    degree_of_freedom = X_matrix.shape[0] - X_matrix.shape[1]\n",
    "    MSE = (sum((y_hat - y) ** 2)) / degree_of_freedom\n",
    "    var_coef = MSE * (np.linalg.inv(np.dot(X_matrix.T, X_matrix)).diagonal())\n",
    "    std_err_coef = np.sqrt(var_coef)\n",
    "    t_stat_coef = coef / std_err_coef\n",
    "    p_values_coef = [2 * (1 - stats.t.cdf(np.abs(i), degree_of_freedom)) for i in t_stat_coef]\n",
    "    t_half_alpha = stats.t.ppf(1 - 0.025, degree_of_freedom)\n",
    "    ci1_coef = [beta - t_half_alpha * se_beta for beta, se_beta in zip(coef, std_err_coef)]\n",
    "    ci2_coef = [beta + t_half_alpha * se_beta for beta, se_beta in zip(coef, std_err_coef)]\n",
    "    summary_df = pd.DataFrame({\n",
    "        'coef': np.round(coef, 4),\n",
    "        'std_err': np.round(std_err_coef, 3),\n",
    "        't_stat': np.round(t_stat_coef, 3),\n",
    "        'p_value': np.round(p_values_coef, 3),\n",
    "        'ci_1': np.round(ci1_coef, 3),\n",
    "        'ci_2': np.round(ci2_coef, 3),\n",
    "    }, index=['const'] + X.columns.tolist())\n",
    "    return summary_df"
   ]
  },
  {
   "cell_type": "code",
   "execution_count": null,
   "id": "e9ef3e47-a370-4186-9023-eb9ecddcaab5",
   "metadata": {},
   "outputs": [],
   "source": []
  },
  {
   "cell_type": "code",
   "execution_count": 471,
   "id": "88fc1f76-2b9c-44d4-853c-57b2513b4b6b",
   "metadata": {},
   "outputs": [
    {
     "data": {
      "text/html": [
       "<div>\n",
       "<style scoped>\n",
       "    .dataframe tbody tr th:only-of-type {\n",
       "        vertical-align: middle;\n",
       "    }\n",
       "\n",
       "    .dataframe tbody tr th {\n",
       "        vertical-align: top;\n",
       "    }\n",
       "\n",
       "    .dataframe thead th {\n",
       "        text-align: right;\n",
       "    }\n",
       "</style>\n",
       "<table border=\"1\" class=\"dataframe\">\n",
       "  <thead>\n",
       "    <tr style=\"text-align: right;\">\n",
       "      <th></th>\n",
       "      <th>admit</th>\n",
       "      <th>gre</th>\n",
       "      <th>gpa</th>\n",
       "      <th>rank</th>\n",
       "    </tr>\n",
       "  </thead>\n",
       "  <tbody>\n",
       "    <tr>\n",
       "      <th>0</th>\n",
       "      <td>0</td>\n",
       "      <td>380</td>\n",
       "      <td>3.61</td>\n",
       "      <td>3</td>\n",
       "    </tr>\n",
       "    <tr>\n",
       "      <th>1</th>\n",
       "      <td>1</td>\n",
       "      <td>660</td>\n",
       "      <td>3.67</td>\n",
       "      <td>3</td>\n",
       "    </tr>\n",
       "    <tr>\n",
       "      <th>2</th>\n",
       "      <td>1</td>\n",
       "      <td>800</td>\n",
       "      <td>4.00</td>\n",
       "      <td>1</td>\n",
       "    </tr>\n",
       "    <tr>\n",
       "      <th>3</th>\n",
       "      <td>1</td>\n",
       "      <td>640</td>\n",
       "      <td>3.19</td>\n",
       "      <td>4</td>\n",
       "    </tr>\n",
       "    <tr>\n",
       "      <th>4</th>\n",
       "      <td>0</td>\n",
       "      <td>520</td>\n",
       "      <td>2.93</td>\n",
       "      <td>4</td>\n",
       "    </tr>\n",
       "    <tr>\n",
       "      <th>...</th>\n",
       "      <td>...</td>\n",
       "      <td>...</td>\n",
       "      <td>...</td>\n",
       "      <td>...</td>\n",
       "    </tr>\n",
       "    <tr>\n",
       "      <th>395</th>\n",
       "      <td>0</td>\n",
       "      <td>620</td>\n",
       "      <td>4.00</td>\n",
       "      <td>2</td>\n",
       "    </tr>\n",
       "    <tr>\n",
       "      <th>396</th>\n",
       "      <td>0</td>\n",
       "      <td>560</td>\n",
       "      <td>3.04</td>\n",
       "      <td>3</td>\n",
       "    </tr>\n",
       "    <tr>\n",
       "      <th>397</th>\n",
       "      <td>0</td>\n",
       "      <td>460</td>\n",
       "      <td>2.63</td>\n",
       "      <td>2</td>\n",
       "    </tr>\n",
       "    <tr>\n",
       "      <th>398</th>\n",
       "      <td>0</td>\n",
       "      <td>700</td>\n",
       "      <td>3.65</td>\n",
       "      <td>2</td>\n",
       "    </tr>\n",
       "    <tr>\n",
       "      <th>399</th>\n",
       "      <td>0</td>\n",
       "      <td>600</td>\n",
       "      <td>3.89</td>\n",
       "      <td>3</td>\n",
       "    </tr>\n",
       "  </tbody>\n",
       "</table>\n",
       "<p>400 rows × 4 columns</p>\n",
       "</div>"
      ],
      "text/plain": [
       "     admit  gre   gpa  rank\n",
       "0        0  380  3.61     3\n",
       "1        1  660  3.67     3\n",
       "2        1  800  4.00     1\n",
       "3        1  640  3.19     4\n",
       "4        0  520  2.93     4\n",
       "..     ...  ...   ...   ...\n",
       "395      0  620  4.00     2\n",
       "396      0  560  3.04     3\n",
       "397      0  460  2.63     2\n",
       "398      0  700  3.65     2\n",
       "399      0  600  3.89     3\n",
       "\n",
       "[400 rows x 4 columns]"
      ]
     },
     "execution_count": 471,
     "metadata": {},
     "output_type": "execute_result"
    }
   ],
   "source": [
    "data = pd.read_csv('https://stats.idre.ucla.edu/stat/data/binary.csv')\n",
    "data"
   ]
  },
  {
   "cell_type": "code",
   "execution_count": 472,
   "id": "469e129e-8610-44e3-815c-00870eb0c49b",
   "metadata": {},
   "outputs": [
    {
     "data": {
      "image/png": "[encoded data removed]",
      "text/plain": [
       "<Figure size 432x288 with 4 Axes>"
      ]
     },
     "metadata": {
      "needs_background": "light"
     },
     "output_type": "display_data"
    }
   ],
   "source": [
    "# plot all of the columns\n",
    "data.hist()\n",
    "plt.show()"
   ]
  },
  {
   "cell_type": "code",
   "execution_count": 473,
   "id": "56bdecd7-43bc-4088-ad27-036684eeabad",
   "metadata": {},
   "outputs": [],
   "source": [
    "data['rank'] = data['rank'].astype('category') "
   ]
  },
  {
   "cell_type": "code",
   "execution_count": 457,
   "id": "3739e891-903e-4c5d-ba79-207a6352991a",
   "metadata": {},
   "outputs": [
    {
     "data": {
      "text/plain": [
       "admit       int64\n",
       "gre         int64\n",
       "gpa       float64\n",
       "rank     category\n",
       "dtype: object"
      ]
     },
     "execution_count": 457,
     "metadata": {},
     "output_type": "execute_result"
    }
   ],
   "source": [
    "data.dtypes"
   ]
  },
  {
   "cell_type": "code",
   "execution_count": 458,
   "id": "aadea64f-20cf-4521-ab62-72a1a88afe37",
   "metadata": {},
   "outputs": [
    {
     "data": {
      "text/html": [
       "<div>\n",
       "<style scoped>\n",
       "    .dataframe tbody tr th:only-of-type {\n",
       "        vertical-align: middle;\n",
       "    }\n",
       "\n",
       "    .dataframe tbody tr th {\n",
       "        vertical-align: top;\n",
       "    }\n",
       "\n",
       "    .dataframe thead th {\n",
       "        text-align: right;\n",
       "    }\n",
       "</style>\n",
       "<table border=\"1\" class=\"dataframe\">\n",
       "  <thead>\n",
       "    <tr style=\"text-align: right;\">\n",
       "      <th></th>\n",
       "      <th>admit</th>\n",
       "      <th>gre</th>\n",
       "      <th>gpa</th>\n",
       "    </tr>\n",
       "  </thead>\n",
       "  <tbody>\n",
       "    <tr>\n",
       "      <th>count</th>\n",
       "      <td>400.000000</td>\n",
       "      <td>400.000000</td>\n",
       "      <td>400.000000</td>\n",
       "    </tr>\n",
       "    <tr>\n",
       "      <th>mean</th>\n",
       "      <td>0.317500</td>\n",
       "      <td>587.700000</td>\n",
       "      <td>3.389900</td>\n",
       "    </tr>\n",
       "    <tr>\n",
       "      <th>std</th>\n",
       "      <td>0.466087</td>\n",
       "      <td>115.516536</td>\n",
       "      <td>0.380567</td>\n",
       "    </tr>\n",
       "    <tr>\n",
       "      <th>min</th>\n",
       "      <td>0.000000</td>\n",
       "      <td>220.000000</td>\n",
       "      <td>2.260000</td>\n",
       "    </tr>\n",
       "    <tr>\n",
       "      <th>25%</th>\n",
       "      <td>0.000000</td>\n",
       "      <td>520.000000</td>\n",
       "      <td>3.130000</td>\n",
       "    </tr>\n",
       "    <tr>\n",
       "      <th>50%</th>\n",
       "      <td>0.000000</td>\n",
       "      <td>580.000000</td>\n",
       "      <td>3.395000</td>\n",
       "    </tr>\n",
       "    <tr>\n",
       "      <th>75%</th>\n",
       "      <td>1.000000</td>\n",
       "      <td>660.000000</td>\n",
       "      <td>3.670000</td>\n",
       "    </tr>\n",
       "    <tr>\n",
       "      <th>max</th>\n",
       "      <td>1.000000</td>\n",
       "      <td>800.000000</td>\n",
       "      <td>4.000000</td>\n",
       "    </tr>\n",
       "  </tbody>\n",
       "</table>\n",
       "</div>"
      ],
      "text/plain": [
       "            admit         gre         gpa\n",
       "count  400.000000  400.000000  400.000000\n",
       "mean     0.317500  587.700000    3.389900\n",
       "std      0.466087  115.516536    0.380567\n",
       "min      0.000000  220.000000    2.260000\n",
       "25%      0.000000  520.000000    3.130000\n",
       "50%      0.000000  580.000000    3.395000\n",
       "75%      1.000000  660.000000    3.670000\n",
       "max      1.000000  800.000000    4.000000"
      ]
     },
     "execution_count": 458,
     "metadata": {},
     "output_type": "execute_result"
    }
   ],
   "source": [
    "data.describe()"
   ]
  },
  {
   "cell_type": "code",
   "execution_count": 466,
   "id": "bd455fca-3b09-4efe-8f16-94bdb8b2e197",
   "metadata": {},
   "outputs": [
    {
     "data": {
      "text/html": [
       "<div>\n",
       "<style scoped>\n",
       "    .dataframe tbody tr th:only-of-type {\n",
       "        vertical-align: middle;\n",
       "    }\n",
       "\n",
       "    .dataframe tbody tr th {\n",
       "        vertical-align: top;\n",
       "    }\n",
       "\n",
       "    .dataframe thead th {\n",
       "        text-align: right;\n",
       "    }\n",
       "</style>\n",
       "<table border=\"1\" class=\"dataframe\">\n",
       "  <thead>\n",
       "    <tr style=\"text-align: right;\">\n",
       "      <th></th>\n",
       "      <th>coef</th>\n",
       "      <th>std_err</th>\n",
       "      <th>t_stat</th>\n",
       "      <th>p_value</th>\n",
       "      <th>ci_1</th>\n",
       "      <th>ci_2</th>\n",
       "    </tr>\n",
       "  </thead>\n",
       "  <tbody>\n",
       "    <tr>\n",
       "      <th>const</th>\n",
       "      <td>-3.2666</td>\n",
       "      <td>0.265</td>\n",
       "      <td>-12.321</td>\n",
       "      <td>0.0</td>\n",
       "      <td>-3.788</td>\n",
       "      <td>-2.745</td>\n",
       "    </tr>\n",
       "    <tr>\n",
       "      <th>gre</th>\n",
       "      <td>0.0024</td>\n",
       "      <td>0.000</td>\n",
       "      <td>9.287</td>\n",
       "      <td>0.0</td>\n",
       "      <td>0.002</td>\n",
       "      <td>0.003</td>\n",
       "    </tr>\n",
       "    <tr>\n",
       "      <th>gpa</th>\n",
       "      <td>0.7012</td>\n",
       "      <td>0.077</td>\n",
       "      <td>9.053</td>\n",
       "      <td>0.0</td>\n",
       "      <td>0.549</td>\n",
       "      <td>0.853</td>\n",
       "    </tr>\n",
       "    <tr>\n",
       "      <th>rank</th>\n",
       "      <td>-0.5499</td>\n",
       "      <td>0.029</td>\n",
       "      <td>-18.938</td>\n",
       "      <td>0.0</td>\n",
       "      <td>-0.607</td>\n",
       "      <td>-0.493</td>\n",
       "    </tr>\n",
       "  </tbody>\n",
       "</table>\n",
       "</div>"
      ],
      "text/plain": [
       "         coef  std_err  t_stat  p_value   ci_1   ci_2\n",
       "const -3.2666    0.265 -12.321      0.0 -3.788 -2.745\n",
       "gre    0.0024    0.000   9.287      0.0  0.002  0.003\n",
       "gpa    0.7012    0.077   9.053      0.0  0.549  0.853\n",
       "rank  -0.5499    0.029 -18.938      0.0 -0.607 -0.493"
      ]
     },
     "execution_count": 466,
     "metadata": {},
     "output_type": "execute_result"
    }
   ],
   "source": [
    "get_summary(data[['gre','gpa','rank']], data.admit, LogisticRegression())"
   ]
  },
  {
   "cell_type": "code",
   "execution_count": 474,
   "id": "8ed3944f-d9e8-469d-8986-d55300649769",
   "metadata": {},
   "outputs": [
    {
     "data": {
      "text/html": [
       "<div>\n",
       "<style scoped>\n",
       "    .dataframe tbody tr th:only-of-type {\n",
       "        vertical-align: middle;\n",
       "    }\n",
       "\n",
       "    .dataframe tbody tr th {\n",
       "        vertical-align: top;\n",
       "    }\n",
       "\n",
       "    .dataframe thead th {\n",
       "        text-align: right;\n",
       "    }\n",
       "</style>\n",
       "<table border=\"1\" class=\"dataframe\">\n",
       "  <thead>\n",
       "    <tr style=\"text-align: right;\">\n",
       "      <th></th>\n",
       "      <th>coef</th>\n",
       "      <th>std_err</th>\n",
       "      <th>t_stat</th>\n",
       "      <th>p_value</th>\n",
       "      <th>ci_1</th>\n",
       "      <th>ci_2</th>\n",
       "    </tr>\n",
       "  </thead>\n",
       "  <tbody>\n",
       "    <tr>\n",
       "      <th>const</th>\n",
       "      <td>-3.4496</td>\n",
       "      <td>0.266</td>\n",
       "      <td>-12.956</td>\n",
       "      <td>0.0</td>\n",
       "      <td>-3.973</td>\n",
       "      <td>-2.926</td>\n",
       "    </tr>\n",
       "    <tr>\n",
       "      <th>gre</th>\n",
       "      <td>0.0023</td>\n",
       "      <td>0.000</td>\n",
       "      <td>8.897</td>\n",
       "      <td>0.0</td>\n",
       "      <td>0.002</td>\n",
       "      <td>0.003</td>\n",
       "    </tr>\n",
       "    <tr>\n",
       "      <th>gpa</th>\n",
       "      <td>0.7771</td>\n",
       "      <td>0.078</td>\n",
       "      <td>9.990</td>\n",
       "      <td>0.0</td>\n",
       "      <td>0.624</td>\n",
       "      <td>0.930</td>\n",
       "    </tr>\n",
       "    <tr>\n",
       "      <th>rank</th>\n",
       "      <td>-0.5600</td>\n",
       "      <td>0.029</td>\n",
       "      <td>-19.206</td>\n",
       "      <td>0.0</td>\n",
       "      <td>-0.617</td>\n",
       "      <td>-0.503</td>\n",
       "    </tr>\n",
       "  </tbody>\n",
       "</table>\n",
       "</div>"
      ],
      "text/plain": [
       "         coef  std_err  t_stat  p_value   ci_1   ci_2\n",
       "const -3.4496    0.266 -12.956      0.0 -3.973 -2.926\n",
       "gre    0.0023    0.000   8.897      0.0  0.002  0.003\n",
       "gpa    0.7771    0.078   9.990      0.0  0.624  0.930\n",
       "rank  -0.5600    0.029 -19.206      0.0 -0.617 -0.503"
      ]
     },
     "execution_count": 474,
     "metadata": {},
     "output_type": "execute_result"
    }
   ],
   "source": [
    "get_summary(data[['gre','gpa','rank']], data.admit, LogisticRegression(penalty='none'))"
   ]
  },
  {
   "cell_type": "code",
   "execution_count": 464,
   "id": "e51d8c1e-0c00-42ef-9806-c6f4ce82751a",
   "metadata": {},
   "outputs": [
    {
     "name": "stdout",
     "output_type": "stream",
     "text": [
      "Optimization terminated successfully.\n",
      "         Current function value: 0.574302\n",
      "         Iterations 6\n",
      "                           Logit Regression Results                           \n",
      "==============================================================================\n",
      "Dep. Variable:                  admit   No. Observations:                  400\n",
      "Model:                          Logit   Df Residuals:                      396\n",
      "Method:                           MLE   Df Model:                            3\n",
      "Date:                Thu, 10 Mar 2022   Pseudo R-squ.:                 0.08107\n",
      "Time:                        16:45:47   Log-Likelihood:                -229.72\n",
      "converged:                       True   LL-Null:                       -249.99\n",
      "Covariance Type:            nonrobust   LLR p-value:                 8.207e-09\n",
      "==============================================================================\n",
      "                 coef    std err          z      P>|z|      [0.025      0.975]\n",
      "------------------------------------------------------------------------------\n",
      "const         -3.4495      1.133     -3.045      0.002      -5.670      -1.229\n",
      "gre            0.0023      0.001      2.101      0.036       0.000       0.004\n",
      "gpa            0.7770      0.327      2.373      0.018       0.135       1.419\n",
      "rank          -0.5600      0.127     -4.405      0.000      -0.809      -0.311\n",
      "==============================================================================\n"
     ]
    }
   ],
   "source": [
    "X = sm.add_constant(data[['gre','gpa','rank']])\n",
    "est = sm.Logit(data.admit, X).fit()\n",
    "print(est.summary())"
   ]
  },
  {
   "cell_type": "code",
   "execution_count": 475,
   "id": "d2e56e3f-4de2-43e5-8347-7e71b4af635d",
   "metadata": {},
   "outputs": [
    {
     "name": "stdout",
     "output_type": "stream",
     "text": [
      "Optimization terminated successfully.\n",
      "         Current function value: 0.573147\n",
      "         Iterations 6\n",
      "                           Logit Regression Results                           \n",
      "==============================================================================\n",
      "Dep. Variable:                  admit   No. Observations:                  400\n",
      "Model:                          Logit   Df Residuals:                      394\n",
      "Method:                           MLE   Df Model:                            5\n",
      "Date:                Thu, 10 Mar 2022   Pseudo R-squ.:                 0.08292\n",
      "Time:                        16:58:24   Log-Likelihood:                -229.26\n",
      "converged:                       True   LL-Null:                       -249.99\n",
      "Covariance Type:            nonrobust   LLR p-value:                 7.578e-08\n",
      "==============================================================================\n",
      "                 coef    std err          z      P>|z|      [0.025      0.975]\n",
      "------------------------------------------------------------------------------\n",
      "const         -3.9900      1.140     -3.500      0.000      -6.224      -1.756\n",
      "gre            0.0023      0.001      2.070      0.038       0.000       0.004\n",
      "gpa            0.8040      0.332      2.423      0.015       0.154       1.454\n",
      "2             -0.6754      0.316     -2.134      0.033      -1.296      -0.055\n",
      "3             -1.3402      0.345     -3.881      0.000      -2.017      -0.663\n",
      "4             -1.5515      0.418     -3.713      0.000      -2.370      -0.733\n",
      "==============================================================================\n"
     ]
    }
   ],
   "source": [
    "# the results are as same as those in R\n",
    "X = sm.add_constant(pd.concat([\n",
    "    data[['gre','gpa']], pd.get_dummies(data['rank'], drop_first=True)\n",
    "], axis=1))\n",
    "est = sm.Logit(data.admit, X).fit()\n",
    "print(est.summary())"
   ]
  },
  {
   "cell_type": "markdown",
   "id": "bc6b19e3-1d5d-4481-8b92-f05ce802b732",
   "metadata": {},
   "source": [
    "What tripped me up:\n",
    "\n",
    "- disable sklearn regularization LogisticRegression(C=1e9)\n",
    "- add statsmodels intercept sm.Logit(y,sm.add_constant(X)) OR disable sklearn intercept LogisticRegression(C=1e9,fit_intercept=False)\n",
    "- sklearn returns probability for each class so model_sklearn.predict_proba(X)[:,1] == model_statsmodel.predict(X)\n",
    "- Use of predict fucntion model_sklearn.predict(X) == (model_statsmodel.predict(X)>0.5).astype(int)\n",
    "\n",
    "I'm now seeing the same results in both libraries."
   ]
  },
  {
   "cell_type": "code",
   "execution_count": 478,
   "id": "d0b9eba4-cd25-43ef-aca9-40b4abf882bb",
   "metadata": {},
   "outputs": [
    {
     "name": "stderr",
     "output_type": "stream",
     "text": [
      "/Library/Frameworks/Python.framework/Versions/3.7/lib/python3.7/site-packages/sklearn/linear_model/_logistic.py:765: ConvergenceWarning: lbfgs failed to converge (status=1):\n",
      "STOP: TOTAL NO. of ITERATIONS REACHED LIMIT.\n",
      "\n",
      "Increase the number of iterations (max_iter) or scale the data as shown in:\n",
      "    https://scikit-learn.org/stable/modules/preprocessing.html\n",
      "Please also refer to the documentation for alternative solver options:\n",
      "    https://scikit-learn.org/stable/modules/linear_model.html#logistic-regression\n",
      "  extra_warning_msg=_LOGISTIC_SOLVER_CONVERGENCE_MSG)\n"
     ]
    },
    {
     "data": {
      "text/html": [
       "<div>\n",
       "<style scoped>\n",
       "    .dataframe tbody tr th:only-of-type {\n",
       "        vertical-align: middle;\n",
       "    }\n",
       "\n",
       "    .dataframe tbody tr th {\n",
       "        vertical-align: top;\n",
       "    }\n",
       "\n",
       "    .dataframe thead th {\n",
       "        text-align: right;\n",
       "    }\n",
       "</style>\n",
       "<table border=\"1\" class=\"dataframe\">\n",
       "  <thead>\n",
       "    <tr style=\"text-align: right;\">\n",
       "      <th></th>\n",
       "      <th>coef</th>\n",
       "      <th>std_err</th>\n",
       "      <th>t_stat</th>\n",
       "      <th>p_value</th>\n",
       "      <th>ci_1</th>\n",
       "      <th>ci_2</th>\n",
       "    </tr>\n",
       "  </thead>\n",
       "  <tbody>\n",
       "    <tr>\n",
       "      <th>const</th>\n",
       "      <td>-3.9637</td>\n",
       "      <td>0.265</td>\n",
       "      <td>-14.981</td>\n",
       "      <td>0.0</td>\n",
       "      <td>-4.484</td>\n",
       "      <td>-3.444</td>\n",
       "    </tr>\n",
       "    <tr>\n",
       "      <th>gre</th>\n",
       "      <td>0.0024</td>\n",
       "      <td>0.000</td>\n",
       "      <td>9.148</td>\n",
       "      <td>0.0</td>\n",
       "      <td>0.002</td>\n",
       "      <td>0.003</td>\n",
       "    </tr>\n",
       "    <tr>\n",
       "      <th>gpa</th>\n",
       "      <td>0.7771</td>\n",
       "      <td>0.078</td>\n",
       "      <td>9.918</td>\n",
       "      <td>0.0</td>\n",
       "      <td>0.623</td>\n",
       "      <td>0.931</td>\n",
       "    </tr>\n",
       "    <tr>\n",
       "      <th>2</th>\n",
       "      <td>-0.6478</td>\n",
       "      <td>0.083</td>\n",
       "      <td>-7.810</td>\n",
       "      <td>0.0</td>\n",
       "      <td>-0.811</td>\n",
       "      <td>-0.485</td>\n",
       "    </tr>\n",
       "    <tr>\n",
       "      <th>3</th>\n",
       "      <td>-1.3527</td>\n",
       "      <td>0.086</td>\n",
       "      <td>-15.720</td>\n",
       "      <td>0.0</td>\n",
       "      <td>-1.522</td>\n",
       "      <td>-1.184</td>\n",
       "    </tr>\n",
       "    <tr>\n",
       "      <th>4</th>\n",
       "      <td>-1.5690</td>\n",
       "      <td>0.097</td>\n",
       "      <td>-16.149</td>\n",
       "      <td>0.0</td>\n",
       "      <td>-1.760</td>\n",
       "      <td>-1.378</td>\n",
       "    </tr>\n",
       "  </tbody>\n",
       "</table>\n",
       "</div>"
      ],
      "text/plain": [
       "         coef  std_err  t_stat  p_value   ci_1   ci_2\n",
       "const -3.9637    0.265 -14.981      0.0 -4.484 -3.444\n",
       "gre    0.0024    0.000   9.148      0.0  0.002  0.003\n",
       "gpa    0.7771    0.078   9.918      0.0  0.623  0.931\n",
       "2     -0.6478    0.083  -7.810      0.0 -0.811 -0.485\n",
       "3     -1.3527    0.086 -15.720      0.0 -1.522 -1.184\n",
       "4     -1.5690    0.097 -16.149      0.0 -1.760 -1.378"
      ]
     },
     "execution_count": 478,
     "metadata": {},
     "output_type": "execute_result"
    }
   ],
   "source": [
    "# But still the results are different\n",
    "X = pd.concat([\n",
    "    data[['gre','gpa']], pd.get_dummies(data['rank'], drop_first=True)\n",
    "], axis=1)\n",
    "get_summary(X, data.admit, LogisticRegression(penalty='none'))"
   ]
  },
  {
   "cell_type": "markdown",
   "id": "135439a3-bc7d-493b-977d-00b9e05875ca",
   "metadata": {},
   "source": [
    "https://www.pythonfordatascience.org/mixed-effects-regression-python/"
   ]
  },
  {
   "cell_type": "code",
   "execution_count": 427,
   "id": "04bde914-2af1-4311-8ad8-5587d3eec63f",
   "metadata": {},
   "outputs": [
    {
     "name": "stdout",
     "output_type": "stream",
     "text": [
      "<class 'pandas.core.frame.DataFrame'>\n",
      "RangeIndex: 322 entries, 0 to 321\n",
      "Data columns (total 6 columns):\n",
      " #   Column     Non-Null Count  Dtype  \n",
      "---  ------     --------------  -----  \n",
      " 0   pup_id     322 non-null    int64  \n",
      " 1   weight     322 non-null    float64\n",
      " 2   sex        322 non-null    object \n",
      " 3   litter     322 non-null    int64  \n",
      " 4   litsize    322 non-null    int64  \n",
      " 5   treatment  322 non-null    object \n",
      "dtypes: float64(1), int64(3), object(2)\n",
      "memory usage: 15.2+ KB\n"
     ]
    }
   ],
   "source": [
    "df = pd.read_csv(\"http://www-personal.umich.edu/~bwest/rat_pup.dat\", sep = \"\\t\")\n",
    "df.info()"
   ]
  },
  {
   "cell_type": "code",
   "execution_count": 428,
   "id": "f7f717ce-3240-4f7b-8c42-1f2f25342a37",
   "metadata": {},
   "outputs": [
    {
     "data": {
      "text/html": [
       "<div>\n",
       "<style scoped>\n",
       "    .dataframe tbody tr th:only-of-type {\n",
       "        vertical-align: middle;\n",
       "    }\n",
       "\n",
       "    .dataframe tbody tr th {\n",
       "        vertical-align: top;\n",
       "    }\n",
       "\n",
       "    .dataframe thead th {\n",
       "        text-align: right;\n",
       "    }\n",
       "</style>\n",
       "<table border=\"1\" class=\"dataframe\">\n",
       "  <thead>\n",
       "    <tr style=\"text-align: right;\">\n",
       "      <th></th>\n",
       "      <th>pup_id</th>\n",
       "      <th>weight</th>\n",
       "      <th>sex</th>\n",
       "      <th>litter</th>\n",
       "      <th>litsize</th>\n",
       "      <th>treatment</th>\n",
       "    </tr>\n",
       "  </thead>\n",
       "  <tbody>\n",
       "    <tr>\n",
       "      <th>0</th>\n",
       "      <td>1</td>\n",
       "      <td>6.60</td>\n",
       "      <td>Male</td>\n",
       "      <td>1</td>\n",
       "      <td>12</td>\n",
       "      <td>Control</td>\n",
       "    </tr>\n",
       "    <tr>\n",
       "      <th>1</th>\n",
       "      <td>2</td>\n",
       "      <td>7.40</td>\n",
       "      <td>Male</td>\n",
       "      <td>1</td>\n",
       "      <td>12</td>\n",
       "      <td>Control</td>\n",
       "    </tr>\n",
       "    <tr>\n",
       "      <th>2</th>\n",
       "      <td>3</td>\n",
       "      <td>7.15</td>\n",
       "      <td>Male</td>\n",
       "      <td>1</td>\n",
       "      <td>12</td>\n",
       "      <td>Control</td>\n",
       "    </tr>\n",
       "    <tr>\n",
       "      <th>3</th>\n",
       "      <td>4</td>\n",
       "      <td>7.24</td>\n",
       "      <td>Male</td>\n",
       "      <td>1</td>\n",
       "      <td>12</td>\n",
       "      <td>Control</td>\n",
       "    </tr>\n",
       "    <tr>\n",
       "      <th>4</th>\n",
       "      <td>5</td>\n",
       "      <td>7.10</td>\n",
       "      <td>Male</td>\n",
       "      <td>1</td>\n",
       "      <td>12</td>\n",
       "      <td>Control</td>\n",
       "    </tr>\n",
       "    <tr>\n",
       "      <th>...</th>\n",
       "      <td>...</td>\n",
       "      <td>...</td>\n",
       "      <td>...</td>\n",
       "      <td>...</td>\n",
       "      <td>...</td>\n",
       "      <td>...</td>\n",
       "    </tr>\n",
       "    <tr>\n",
       "      <th>317</th>\n",
       "      <td>318</td>\n",
       "      <td>5.69</td>\n",
       "      <td>Male</td>\n",
       "      <td>27</td>\n",
       "      <td>9</td>\n",
       "      <td>High</td>\n",
       "    </tr>\n",
       "    <tr>\n",
       "      <th>318</th>\n",
       "      <td>319</td>\n",
       "      <td>6.36</td>\n",
       "      <td>Male</td>\n",
       "      <td>27</td>\n",
       "      <td>9</td>\n",
       "      <td>High</td>\n",
       "    </tr>\n",
       "    <tr>\n",
       "      <th>319</th>\n",
       "      <td>320</td>\n",
       "      <td>5.93</td>\n",
       "      <td>Female</td>\n",
       "      <td>27</td>\n",
       "      <td>9</td>\n",
       "      <td>High</td>\n",
       "    </tr>\n",
       "    <tr>\n",
       "      <th>320</th>\n",
       "      <td>321</td>\n",
       "      <td>5.74</td>\n",
       "      <td>Female</td>\n",
       "      <td>27</td>\n",
       "      <td>9</td>\n",
       "      <td>High</td>\n",
       "    </tr>\n",
       "    <tr>\n",
       "      <th>321</th>\n",
       "      <td>322</td>\n",
       "      <td>5.74</td>\n",
       "      <td>Female</td>\n",
       "      <td>27</td>\n",
       "      <td>9</td>\n",
       "      <td>High</td>\n",
       "    </tr>\n",
       "  </tbody>\n",
       "</table>\n",
       "<p>322 rows × 6 columns</p>\n",
       "</div>"
      ],
      "text/plain": [
       "     pup_id  weight     sex  litter  litsize treatment\n",
       "0         1    6.60    Male       1       12   Control\n",
       "1         2    7.40    Male       1       12   Control\n",
       "2         3    7.15    Male       1       12   Control\n",
       "3         4    7.24    Male       1       12   Control\n",
       "4         5    7.10    Male       1       12   Control\n",
       "..      ...     ...     ...     ...      ...       ...\n",
       "317     318    5.69    Male      27        9      High\n",
       "318     319    6.36    Male      27        9      High\n",
       "319     320    5.93  Female      27        9      High\n",
       "320     321    5.74  Female      27        9      High\n",
       "321     322    5.74  Female      27        9      High\n",
       "\n",
       "[322 rows x 6 columns]"
      ]
     },
     "execution_count": 428,
     "metadata": {},
     "output_type": "execute_result"
    }
   ],
   "source": [
    "df"
   ]
  },
  {
   "cell_type": "code",
   "execution_count": 432,
   "id": "6a4d6d24-6056-4a86-85f7-8851192b8526",
   "metadata": {},
   "outputs": [
    {
     "name": "stdout",
     "output_type": "stream",
     "text": [
      "\n",
      "\n"
     ]
    },
    {
     "data": {
      "text/html": [
       "<div>\n",
       "<style scoped>\n",
       "    .dataframe tbody tr th:only-of-type {\n",
       "        vertical-align: middle;\n",
       "    }\n",
       "\n",
       "    .dataframe tbody tr th {\n",
       "        vertical-align: top;\n",
       "    }\n",
       "\n",
       "    .dataframe thead th {\n",
       "        text-align: right;\n",
       "    }\n",
       "</style>\n",
       "<table border=\"1\" class=\"dataframe\">\n",
       "  <thead>\n",
       "    <tr style=\"text-align: right;\">\n",
       "      <th></th>\n",
       "      <th></th>\n",
       "      <th>N</th>\n",
       "      <th>Mean</th>\n",
       "      <th>SD</th>\n",
       "      <th>SE</th>\n",
       "      <th>95% Conf.</th>\n",
       "      <th>Interval</th>\n",
       "    </tr>\n",
       "    <tr>\n",
       "      <th>treatment</th>\n",
       "      <th>sex</th>\n",
       "      <th></th>\n",
       "      <th></th>\n",
       "      <th></th>\n",
       "      <th></th>\n",
       "      <th></th>\n",
       "      <th></th>\n",
       "    </tr>\n",
       "  </thead>\n",
       "  <tbody>\n",
       "    <tr>\n",
       "      <th rowspan=\"2\" valign=\"top\">Control</th>\n",
       "      <th>Female</th>\n",
       "      <td>54</td>\n",
       "      <td>6.1161</td>\n",
       "      <td>0.6851</td>\n",
       "      <td>0.0932</td>\n",
       "      <td>5.9291</td>\n",
       "      <td>6.3031</td>\n",
       "    </tr>\n",
       "    <tr>\n",
       "      <th>Male</th>\n",
       "      <td>77</td>\n",
       "      <td>6.4710</td>\n",
       "      <td>0.7538</td>\n",
       "      <td>0.0859</td>\n",
       "      <td>6.3000</td>\n",
       "      <td>6.6421</td>\n",
       "    </tr>\n",
       "    <tr>\n",
       "      <th rowspan=\"2\" valign=\"top\">High</th>\n",
       "      <th>Female</th>\n",
       "      <td>32</td>\n",
       "      <td>5.8516</td>\n",
       "      <td>0.6002</td>\n",
       "      <td>0.1061</td>\n",
       "      <td>5.6352</td>\n",
       "      <td>6.0680</td>\n",
       "    </tr>\n",
       "    <tr>\n",
       "      <th>Male</th>\n",
       "      <td>33</td>\n",
       "      <td>5.9185</td>\n",
       "      <td>0.6909</td>\n",
       "      <td>0.1203</td>\n",
       "      <td>5.6735</td>\n",
       "      <td>6.1635</td>\n",
       "    </tr>\n",
       "    <tr>\n",
       "      <th rowspan=\"2\" valign=\"top\">Low</th>\n",
       "      <th>Female</th>\n",
       "      <td>65</td>\n",
       "      <td>5.8375</td>\n",
       "      <td>0.4505</td>\n",
       "      <td>0.0559</td>\n",
       "      <td>5.7259</td>\n",
       "      <td>5.9492</td>\n",
       "    </tr>\n",
       "    <tr>\n",
       "      <th>Male</th>\n",
       "      <td>61</td>\n",
       "      <td>6.0251</td>\n",
       "      <td>0.3803</td>\n",
       "      <td>0.0487</td>\n",
       "      <td>5.9277</td>\n",
       "      <td>6.1225</td>\n",
       "    </tr>\n",
       "  </tbody>\n",
       "</table>\n",
       "</div>"
      ],
      "text/plain": [
       "                   N    Mean      SD      SE  95% Conf.  Interval\n",
       "treatment sex                                                    \n",
       "Control   Female  54  6.1161  0.6851  0.0932     5.9291    6.3031\n",
       "          Male    77  6.4710  0.7538  0.0859     6.3000    6.6421\n",
       "High      Female  32  5.8516  0.6002  0.1061     5.6352    6.0680\n",
       "          Male    33  5.9185  0.6909  0.1203     5.6735    6.1635\n",
       "Low       Female  65  5.8375  0.4505  0.0559     5.7259    5.9492\n",
       "          Male    61  6.0251  0.3803  0.0487     5.9277    6.1225"
      ]
     },
     "execution_count": 432,
     "metadata": {},
     "output_type": "execute_result"
    }
   ],
   "source": [
    "rp.summary_cont(df.groupby([\"treatment\", \"sex\"])[\"weight\"])"
   ]
  },
  {
   "cell_type": "code",
   "execution_count": 436,
   "id": "1cb710b4-2935-4193-8a82-3b8f34ad71bf",
   "metadata": {},
   "outputs": [
    {
     "data": {
      "image/png": "[encoded data removed]",
      "text/plain": [
       "<Figure size 1152x648 with 1 Axes>"
      ]
     },
     "metadata": {
      "needs_background": "light"
     },
     "output_type": "display_data"
    }
   ],
   "source": [
    "boxplot = df.boxplot([\"weight\"], by = [\"treatment\", \"sex\"],\n",
    "                     figsize = (16, 9),\n",
    "                     showmeans = True,\n",
    "                     notch = True)\n",
    "boxplot.set_xlabel(\"Categories\")\n",
    "boxplot.set_ylabel(\"Weight\")\n",
    "ax = boxplot"
   ]
  },
  {
   "cell_type": "code",
   "execution_count": 437,
   "id": "886c0813-83df-4362-8909-a8d8e6f0473a",
   "metadata": {},
   "outputs": [],
   "source": [
    "import statsmodels.formula.api as smf"
   ]
  },
  {
   "cell_type": "markdown",
   "id": "dcb3d0e1-7aa4-407a-87a5-2d52f0037e98",
   "metadata": {},
   "source": [
    "### Random Intercept Model"
   ]
  },
  {
   "cell_type": "code",
   "execution_count": 440,
   "id": "4e506d85-6aa2-4c25-9259-304827acf692",
   "metadata": {},
   "outputs": [
    {
     "data": {
      "text/html": [
       "<table class=\"simpletable\">\n",
       "<tr>\n",
       "       <td>Model:</td>       <td>MixedLM</td> <td>Dependent Variable:</td>  <td>weight</td>  \n",
       "</tr>\n",
       "<tr>\n",
       "  <td>No. Observations:</td>   <td>322</td>         <td>Method:</td>         <td>REML</td>   \n",
       "</tr>\n",
       "<tr>\n",
       "     <td>No. Groups:</td>      <td>27</td>          <td>Scale:</td>         <td>0.1635</td>  \n",
       "</tr>\n",
       "<tr>\n",
       "  <td>Min. group size:</td>     <td>2</td>      <td>Log-Likelihood:</td>   <td>-200.5522</td>\n",
       "</tr>\n",
       "<tr>\n",
       "  <td>Max. group size:</td>    <td>18</td>        <td>Converged:</td>         <td>Yes</td>   \n",
       "</tr>\n",
       "<tr>\n",
       "  <td>Mean group size:</td>   <td>11.9</td>            <td></td>               <td></td>     \n",
       "</tr>\n",
       "</table>\n",
       "<table class=\"simpletable\">\n",
       "<tr>\n",
       "                              <td></td>                              <th>Coef.</th> <th>Std.Err.</th>    <th>z</th>   <th>P>|z|</th> <th>[0.025</th> <th>0.975]</th>\n",
       "</tr>\n",
       "<tr>\n",
       "  <th>Intercept</th>                                                 <td>8.323</td>   <td>0.273</td>  <td>30.447</td> <td>0.000</td>  <td>7.788</td>  <td>8.859</td>\n",
       "</tr>\n",
       "<tr>\n",
       "  <th>C(treatment)[T.High]</th>                                     <td>-0.906</td>   <td>0.192</td>  <td>-4.727</td> <td>0.000</td> <td>-1.282</td> <td>-0.530</td>\n",
       "</tr>\n",
       "<tr>\n",
       "  <th>C(treatment)[T.Low]</th>                                      <td>-0.467</td>   <td>0.158</td>  <td>-2.952</td> <td>0.003</td> <td>-0.777</td> <td>-0.157</td>\n",
       "</tr>\n",
       "<tr>\n",
       "  <th>C(sex, Treatment('Male'))[T.Female]</th>                      <td>-0.412</td>   <td>0.073</td>  <td>-5.625</td> <td>0.000</td> <td>-0.555</td> <td>-0.268</td>\n",
       "</tr>\n",
       "<tr>\n",
       "  <th>C(treatment)[T.High]:C(sex, Treatment('Male'))[T.Female]</th>  <td>0.107</td>   <td>0.132</td>   <td>0.811</td> <td>0.417</td> <td>-0.151</td>  <td>0.366</td>\n",
       "</tr>\n",
       "<tr>\n",
       "  <th>C(treatment)[T.Low]:C(sex, Treatment('Male'))[T.Female]</th>   <td>0.084</td>   <td>0.106</td>   <td>0.794</td> <td>0.427</td> <td>-0.123</td>  <td>0.291</td>\n",
       "</tr>\n",
       "<tr>\n",
       "  <th>litsize</th>                                                  <td>-0.128</td>   <td>0.019</td>  <td>-6.845</td> <td>0.000</td> <td>-0.165</td> <td>-0.092</td>\n",
       "</tr>\n",
       "<tr>\n",
       "  <th>litter Var</th>                                                <td>0.097</td>   <td>0.084</td>     <td></td>      <td></td>       <td></td>       <td></td>   \n",
       "</tr>\n",
       "</table>"
      ],
      "text/plain": [
       "<class 'statsmodels.iolib.summary2.Summary'>\n",
       "\"\"\"\n",
       "                               Mixed Linear Model Regression Results\n",
       "===================================================================================================\n",
       "Model:                            MixedLM               Dependent Variable:               weight   \n",
       "No. Observations:                 322                   Method:                           REML     \n",
       "No. Groups:                       27                    Scale:                            0.1635   \n",
       "Min. group size:                  2                     Log-Likelihood:                   -200.5522\n",
       "Max. group size:                  18                    Converged:                        Yes      \n",
       "Mean group size:                  11.9                                                             \n",
       "---------------------------------------------------------------------------------------------------\n",
       "                                                         Coef.  Std.Err.   z    P>|z| [0.025 0.975]\n",
       "---------------------------------------------------------------------------------------------------\n",
       "Intercept                                                 8.323    0.273 30.447 0.000  7.788  8.859\n",
       "C(treatment)[T.High]                                     -0.906    0.192 -4.727 0.000 -1.282 -0.530\n",
       "C(treatment)[T.Low]                                      -0.467    0.158 -2.952 0.003 -0.777 -0.157\n",
       "C(sex, Treatment('Male'))[T.Female]                      -0.412    0.073 -5.625 0.000 -0.555 -0.268\n",
       "C(treatment)[T.High]:C(sex, Treatment('Male'))[T.Female]  0.107    0.132  0.811 0.417 -0.151  0.366\n",
       "C(treatment)[T.Low]:C(sex, Treatment('Male'))[T.Female]   0.084    0.106  0.794 0.427 -0.123  0.291\n",
       "litsize                                                  -0.128    0.019 -6.845 0.000 -0.165 -0.092\n",
       "litter Var                                                0.097    0.084                           \n",
       "===================================================================================================\n",
       "\n",
       "\"\"\""
      ]
     },
     "execution_count": 440,
     "metadata": {},
     "output_type": "execute_result"
    }
   ],
   "source": [
    "model = smf.mixedlm(\"weight ~ litsize + C(treatment) + C(sex, Treatment('Male')) + C(treatment):C(sex, Treatment('Male'))\",\n",
    "                    df, groups= \"litter\").fit()\n",
    "model.summary()"
   ]
  },
  {
   "cell_type": "code",
   "execution_count": 441,
   "id": "dc56b652-3556-490a-ae87-086be497d8b9",
   "metadata": {},
   "outputs": [
    {
     "data": {
      "text/html": [
       "<table class=\"simpletable\">\n",
       "<tr>\n",
       "       <td>Model:</td>       <td>MixedLM</td> <td>Dependent Variable:</td>  <td>weight</td>  \n",
       "</tr>\n",
       "<tr>\n",
       "  <td>No. Observations:</td>   <td>322</td>         <td>Method:</td>         <td>REML</td>   \n",
       "</tr>\n",
       "<tr>\n",
       "     <td>No. Groups:</td>      <td>27</td>          <td>Scale:</td>         <td>0.1628</td>  \n",
       "</tr>\n",
       "<tr>\n",
       "  <td>Min. group size:</td>     <td>2</td>      <td>Log-Likelihood:</td>   <td>-198.4997</td>\n",
       "</tr>\n",
       "<tr>\n",
       "  <td>Max. group size:</td>    <td>18</td>        <td>Converged:</td>         <td>Yes</td>   \n",
       "</tr>\n",
       "<tr>\n",
       "  <td>Mean group size:</td>   <td>11.9</td>            <td></td>               <td></td>     \n",
       "</tr>\n",
       "</table>\n",
       "<table class=\"simpletable\">\n",
       "<tr>\n",
       "                   <td></td>                    <th>Coef.</th> <th>Std.Err.</th>    <th>z</th>   <th>P>|z|</th> <th>[0.025</th> <th>0.975]</th>\n",
       "</tr>\n",
       "<tr>\n",
       "  <th>Intercept</th>                            <td>8.310</td>   <td>0.274</td>  <td>30.355</td> <td>0.000</td>  <td>7.773</td>  <td>8.846</td>\n",
       "</tr>\n",
       "<tr>\n",
       "  <th>C(treatment)[T.High]</th>                <td>-0.859</td>   <td>0.182</td>  <td>-4.722</td> <td>0.000</td> <td>-1.215</td> <td>-0.502</td>\n",
       "</tr>\n",
       "<tr>\n",
       "  <th>C(treatment)[T.Low]</th>                 <td>-0.429</td>   <td>0.150</td>  <td>-2.849</td> <td>0.004</td> <td>-0.723</td> <td>-0.134</td>\n",
       "</tr>\n",
       "<tr>\n",
       "  <th>C(sex, Treatment('Male'))[T.Female]</th> <td>-0.359</td>   <td>0.048</td>  <td>-7.540</td> <td>0.000</td> <td>-0.452</td> <td>-0.266</td>\n",
       "</tr>\n",
       "<tr>\n",
       "  <th>litsize</th>                             <td>-0.129</td>   <td>0.019</td>  <td>-6.863</td> <td>0.000</td> <td>-0.166</td> <td>-0.092</td>\n",
       "</tr>\n",
       "<tr>\n",
       "  <th>litter Var</th>                           <td>0.097</td>   <td>0.085</td>     <td></td>      <td></td>       <td></td>       <td></td>   \n",
       "</tr>\n",
       "</table>"
      ],
      "text/plain": [
       "<class 'statsmodels.iolib.summary2.Summary'>\n",
       "\"\"\"\n",
       "                    Mixed Linear Model Regression Results\n",
       "==============================================================================\n",
       "Model:                     MixedLM        Dependent Variable:        weight   \n",
       "No. Observations:          322            Method:                    REML     \n",
       "No. Groups:                27             Scale:                     0.1628   \n",
       "Min. group size:           2              Log-Likelihood:            -198.4997\n",
       "Max. group size:           18             Converged:                 Yes      \n",
       "Mean group size:           11.9                                               \n",
       "------------------------------------------------------------------------------\n",
       "                                    Coef.  Std.Err.   z    P>|z| [0.025 0.975]\n",
       "------------------------------------------------------------------------------\n",
       "Intercept                            8.310    0.274 30.355 0.000  7.773  8.846\n",
       "C(treatment)[T.High]                -0.859    0.182 -4.722 0.000 -1.215 -0.502\n",
       "C(treatment)[T.Low]                 -0.429    0.150 -2.849 0.004 -0.723 -0.134\n",
       "C(sex, Treatment('Male'))[T.Female] -0.359    0.048 -7.540 0.000 -0.452 -0.266\n",
       "litsize                             -0.129    0.019 -6.863 0.000 -0.166 -0.092\n",
       "litter Var                           0.097    0.085                           \n",
       "==============================================================================\n",
       "\n",
       "\"\"\""
      ]
     },
     "execution_count": 441,
     "metadata": {},
     "output_type": "execute_result"
    }
   ],
   "source": [
    "# Random Intercept Model w/out Interaction Term\n",
    "model = smf.mixedlm(\"weight ~ litsize + C(treatment) + C(sex, Treatment('Male'))\", \n",
    "                    df, groups= \"litter\").fit()\n",
    "model.summary()"
   ]
  },
  {
   "cell_type": "markdown",
   "id": "f5a4e6a0-950f-40c6-a8d3-4e9c6e1e9f73",
   "metadata": {},
   "source": [
    "### Random Slope Model"
   ]
  },
  {
   "cell_type": "code",
   "execution_count": 442,
   "id": "1a9fc3f3-9e65-465b-9843-bd9c3a76ada1",
   "metadata": {},
   "outputs": [
    {
     "data": {
      "text/html": [
       "<table class=\"simpletable\">\n",
       "<tr>\n",
       "       <td>Model:</td>       <td>MixedLM</td> <td>Dependent Variable:</td>  <td>weight</td>  \n",
       "</tr>\n",
       "<tr>\n",
       "  <td>No. Observations:</td>   <td>322</td>         <td>Method:</td>         <td>REML</td>   \n",
       "</tr>\n",
       "<tr>\n",
       "     <td>No. Groups:</td>      <td>27</td>          <td>Scale:</td>         <td>0.1565</td>  \n",
       "</tr>\n",
       "<tr>\n",
       "  <td>Min. group size:</td>     <td>2</td>      <td>Log-Likelihood:</td>   <td>-205.7020</td>\n",
       "</tr>\n",
       "<tr>\n",
       "  <td>Max. group size:</td>    <td>18</td>        <td>Converged:</td>         <td>Yes</td>   \n",
       "</tr>\n",
       "<tr>\n",
       "  <td>Mean group size:</td>   <td>11.9</td>            <td></td>               <td></td>     \n",
       "</tr>\n",
       "</table>\n",
       "<table class=\"simpletable\">\n",
       "<tr>\n",
       "            <td></td>            <th>Coef.</th> <th>Std.Err.</th>    <th>z</th>   <th>P>|z|</th> <th>[0.025</th> <th>0.975]</th>\n",
       "</tr>\n",
       "<tr>\n",
       "  <th>Intercept</th>             <td>7.874</td>   <td>0.229</td>  <td>34.380</td> <td>0.000</td>  <td>7.425</td>  <td>8.323</td>\n",
       "</tr>\n",
       "<tr>\n",
       "  <th>C(treatment)[T.High]</th> <td>-0.839</td>   <td>0.144</td>  <td>-5.827</td> <td>0.000</td> <td>-1.121</td> <td>-0.557</td>\n",
       "</tr>\n",
       "<tr>\n",
       "  <th>C(treatment)[T.Low]</th>  <td>-0.411</td>   <td>0.116</td>  <td>-3.526</td> <td>0.000</td> <td>-0.639</td> <td>-0.182</td>\n",
       "</tr>\n",
       "<tr>\n",
       "  <th>C(sex)[T.Male]</th>        <td>0.356</td>   <td>0.102</td>   <td>3.508</td> <td>0.000</td>  <td>0.157</td>  <td>0.555</td>\n",
       "</tr>\n",
       "<tr>\n",
       "  <th>litsize</th>              <td>-0.124</td>   <td>0.016</td>  <td>-7.915</td> <td>0.000</td> <td>-0.155</td> <td>-0.093</td>\n",
       "</tr>\n",
       "<tr>\n",
       "  <th>sex Var</th>               <td>0.104</td>   <td>0.076</td>     <td></td>      <td></td>       <td></td>       <td></td>   \n",
       "</tr>\n",
       "</table>"
      ],
      "text/plain": [
       "<class 'statsmodels.iolib.summary2.Summary'>\n",
       "\"\"\"\n",
       "             Mixed Linear Model Regression Results\n",
       "===============================================================\n",
       "Model:                MixedLM   Dependent Variable:   weight   \n",
       "No. Observations:     322       Method:               REML     \n",
       "No. Groups:           27        Scale:                0.1565   \n",
       "Min. group size:      2         Log-Likelihood:       -205.7020\n",
       "Max. group size:      18        Converged:            Yes      \n",
       "Mean group size:      11.9                                     \n",
       "---------------------------------------------------------------\n",
       "                     Coef.  Std.Err.   z    P>|z| [0.025 0.975]\n",
       "---------------------------------------------------------------\n",
       "Intercept             7.874    0.229 34.380 0.000  7.425  8.323\n",
       "C(treatment)[T.High] -0.839    0.144 -5.827 0.000 -1.121 -0.557\n",
       "C(treatment)[T.Low]  -0.411    0.116 -3.526 0.000 -0.639 -0.182\n",
       "C(sex)[T.Male]        0.356    0.102  3.508 0.000  0.157  0.555\n",
       "litsize              -0.124    0.016 -7.915 0.000 -0.155 -0.093\n",
       "sex Var               0.104    0.076                           \n",
       "===============================================================\n",
       "\n",
       "\"\"\""
      ]
     },
     "execution_count": 442,
     "metadata": {},
     "output_type": "execute_result"
    }
   ],
   "source": [
    "# Random Slope Model: Random intercepts and slopes are independent\n",
    "model2 = smf.mixedlm(\"weight ~ litsize + C(treatment) + C(sex)\", df, groups= \"litter\",\n",
    "                     vc_formula = {\"sex\" : \"0 + C(sex)\"}).fit()\n",
    "model2.summary()"
   ]
  },
  {
   "cell_type": "code",
   "execution_count": 443,
   "id": "0d18399d-3b28-4b18-81ec-c878036f1e24",
   "metadata": {},
   "outputs": [
    {
     "data": {
      "text/html": [
       "<table class=\"simpletable\">\n",
       "<tr>\n",
       "       <td>Model:</td>       <td>MixedLM</td> <td>Dependent Variable:</td>  <td>weight</td>  \n",
       "</tr>\n",
       "<tr>\n",
       "  <td>No. Observations:</td>   <td>322</td>         <td>Method:</td>         <td>REML</td>   \n",
       "</tr>\n",
       "<tr>\n",
       "     <td>No. Groups:</td>      <td>27</td>          <td>Scale:</td>         <td>0.1601</td>  \n",
       "</tr>\n",
       "<tr>\n",
       "  <td>Min. group size:</td>     <td>2</td>      <td>Log-Likelihood:</td>   <td>-196.3946</td>\n",
       "</tr>\n",
       "<tr>\n",
       "  <td>Max. group size:</td>    <td>18</td>        <td>Converged:</td>         <td>Yes</td>   \n",
       "</tr>\n",
       "<tr>\n",
       "  <td>Mean group size:</td>   <td>11.9</td>            <td></td>               <td></td>     \n",
       "</tr>\n",
       "</table>\n",
       "<table class=\"simpletable\">\n",
       "<tr>\n",
       "               <td></td>                <th>Coef.</th> <th>Std.Err.</th>    <th>z</th>   <th>P>|z|</th> <th>[0.025</th> <th>0.975]</th>\n",
       "</tr>\n",
       "<tr>\n",
       "  <th>Intercept</th>                    <td>7.806</td>   <td>0.263</td>  <td>29.672</td> <td>0.000</td>  <td>7.291</td>  <td>8.322</td>\n",
       "</tr>\n",
       "<tr>\n",
       "  <th>C(treatment)[T.High]</th>        <td>-0.778</td>   <td>0.172</td>  <td>-4.523</td> <td>0.000</td> <td>-1.116</td> <td>-0.441</td>\n",
       "</tr>\n",
       "<tr>\n",
       "  <th>C(treatment)[T.Low]</th>         <td>-0.387</td>   <td>0.137</td>  <td>-2.821</td> <td>0.005</td> <td>-0.656</td> <td>-0.118</td>\n",
       "</tr>\n",
       "<tr>\n",
       "  <th>C(sex)[T.Male]</th>               <td>0.359</td>   <td>0.053</td>   <td>6.783</td> <td>0.000</td>  <td>0.255</td>  <td>0.463</td>\n",
       "</tr>\n",
       "<tr>\n",
       "  <th>litsize</th>                     <td>-0.120</td>   <td>0.018</td>  <td>-6.637</td> <td>0.000</td> <td>-0.155</td> <td>-0.084</td>\n",
       "</tr>\n",
       "<tr>\n",
       "  <th>litter Var</th>                   <td>0.063</td>   <td>0.074</td>     <td></td>      <td></td>       <td></td>       <td></td>   \n",
       "</tr>\n",
       "<tr>\n",
       "  <th>litter x C(sex)[T.Male] Cov</th>  <td>0.028</td>   <td>0.044</td>     <td></td>      <td></td>       <td></td>       <td></td>   \n",
       "</tr>\n",
       "<tr>\n",
       "  <th>C(sex)[T.Male] Var</th>           <td>0.013</td>   <td>0.062</td>     <td></td>      <td></td>       <td></td>       <td></td>   \n",
       "</tr>\n",
       "</table>"
      ],
      "text/plain": [
       "<class 'statsmodels.iolib.summary2.Summary'>\n",
       "\"\"\"\n",
       "                Mixed Linear Model Regression Results\n",
       "======================================================================\n",
       "Model:                 MixedLM      Dependent Variable:      weight   \n",
       "No. Observations:      322          Method:                  REML     \n",
       "No. Groups:            27           Scale:                   0.1601   \n",
       "Min. group size:       2            Log-Likelihood:          -196.3946\n",
       "Max. group size:       18           Converged:               Yes      \n",
       "Mean group size:       11.9                                           \n",
       "----------------------------------------------------------------------\n",
       "                            Coef.  Std.Err.   z    P>|z| [0.025 0.975]\n",
       "----------------------------------------------------------------------\n",
       "Intercept                    7.806    0.263 29.672 0.000  7.291  8.322\n",
       "C(treatment)[T.High]        -0.778    0.172 -4.523 0.000 -1.116 -0.441\n",
       "C(treatment)[T.Low]         -0.387    0.137 -2.821 0.005 -0.656 -0.118\n",
       "C(sex)[T.Male]               0.359    0.053  6.783 0.000  0.255  0.463\n",
       "litsize                     -0.120    0.018 -6.637 0.000 -0.155 -0.084\n",
       "litter Var                   0.063    0.074                           \n",
       "litter x C(sex)[T.Male] Cov  0.028    0.044                           \n",
       "C(sex)[T.Male] Var           0.013    0.062                           \n",
       "======================================================================\n",
       "\n",
       "\"\"\""
      ]
     },
     "execution_count": 443,
     "metadata": {},
     "output_type": "execute_result"
    }
   ],
   "source": [
    "# Random Slope Model: Random intercepts and slopes are correlated\n",
    "model2 = smf.mixedlm(\"weight ~ litsize + C(treatment) + C(sex)\", df, groups= \"litter\",\n",
    "                     re_formula = \"1 + C(sex)\").fit()\n",
    "model2.summary()"
   ]
  },
  {
   "cell_type": "code",
   "execution_count": 448,
   "id": "c12e4c3c-a5ec-4c41-81da-7e4946715ae7",
   "metadata": {},
   "outputs": [],
   "source": [
    "import matplotlib.pyplot as plt\n",
    "import seaborn as sns"
   ]
  },
  {
   "cell_type": "code",
   "execution_count": 452,
   "id": "37cee48f-bb39-4a90-b67f-f3decfeee229",
   "metadata": {},
   "outputs": [
    {
     "name": "stderr",
     "output_type": "stream",
     "text": [
      "/Library/Frameworks/Python.framework/Versions/3.7/lib/python3.7/site-packages/seaborn/distributions.py:2557: FutureWarning: `distplot` is a deprecated function and will be removed in a future version. Please adapt your code to use either `displot` (a figure-level function with similar flexibility) or `kdeplot` (an axes-level function for kernel density plots).\n",
      "  warnings.warn(msg, FutureWarning)\n"
     ]
    },
    {
     "data": {
      "text/plain": [
       "Text(0.5, 0, 'Residuals')"
      ]
     },
     "execution_count": 452,
     "metadata": {},
     "output_type": "execute_result"
    },
    {
     "data": {
      "image/png": "[encoded data removed]",
      "text/plain": [
       "<Figure size 1152x648 with 1 Axes>"
      ]
     },
     "metadata": {
      "needs_background": "light"
     },
     "output_type": "display_data"
    }
   ],
   "source": [
    "fig = plt.figure(figsize = (16, 9))\n",
    "ax = sns.distplot(model.resid, hist = False, kde_kws = {\"shade\" : True, \"lw\": 1}, fit = stats.norm)\n",
    "ax.set_title(\"KDE Plot of Model Residuals (Blue) and Normal Distribution (Black)\")\n",
    "ax.set_xlabel(\"Residuals\")"
   ]
  },
  {
   "cell_type": "code",
   "execution_count": 453,
   "id": "5709b0e2-fa12-42ec-b755-f2c286538640",
   "metadata": {},
   "outputs": [
    {
     "data": {
      "text/plain": [
       "Text(0.5, 1.0, 'Q-Q Plot')"
      ]
     },
     "execution_count": 453,
     "metadata": {},
     "output_type": "execute_result"
    },
    {
     "data": {
      "image/png": "[encoded data removed]",
      "text/plain": [
       "<Figure size 1152x648 with 1 Axes>"
      ]
     },
     "metadata": {
      "needs_background": "light"
     },
     "output_type": "display_data"
    }
   ],
   "source": [
    "## Q-Q PLot\n",
    "\n",
    "fig = plt.figure(figsize = (16, 9))\n",
    "ax = fig.add_subplot(111)\n",
    "sm.qqplot(model.resid, dist = stats.norm, line = 's', ax = ax)\n",
    "ax.set_title(\"Q-Q Plot\")"
   ]
  },
  {
   "cell_type": "code",
   "execution_count": null,
   "id": "b804055b-2b7d-4bf6-bc8b-451201739d44",
   "metadata": {},
   "outputs": [],
   "source": []
  }
 ],
 "metadata": {
  "kernelspec": {
   "display_name": "Python 3",
   "language": "python",
   "name": "python3"
  },
  "language_info": {
   "codemirror_mode": {
    "name": "ipython",
    "version": 3
   },
   "file_extension": ".py",
   "mimetype": "text/x-python",
   "name": "python",
   "nbconvert_exporter": "python",
   "pygments_lexer": "ipython3",
   "version": "3.7.9"
  }
 },
 "nbformat": 4,
 "nbformat_minor": 5
}
