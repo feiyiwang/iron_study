{
 "cells": [
  {
   "cell_type": "code",
   "execution_count": 28,
   "id": "36aa4f5e-fa2c-4235-a94f-d93bad486460",
   "metadata": {},
   "outputs": [],
   "source": [
    "import pandas as pd\n",
    "import tqdm, time"
   ]
  },
  {
   "cell_type": "markdown",
   "id": "935f4181-5d94-467c-9a4f-37a0c518fb2f",
   "metadata": {},
   "source": [
    "#### 1. generate a txt file with format chrN:12345678-12345678 using chromosome and hg19_position from file all_variants_and_proxies.csv"
   ]
  },
  {
   "cell_type": "code",
   "execution_count": 3,
   "id": "94cceed0-e4a2-4ae8-ba05-2b0409b333ff",
   "metadata": {},
   "outputs": [],
   "source": [
    "df = pd.read_csv('~/Documents/Materials/iron/all_variants_and_proxies.csv')\n",
    "# df['format'] = 'chr'+df.chromosome.astype(str)+':'+df.hg19_position.astype(str)+'-'+df.hg19_position.astype(str)\n",
    "# df['format'].to_csv('~/Documents/Projects/iron/variants_hg19.txt', index=False) "
   ]
  },
  {
   "cell_type": "markdown",
   "id": "70f47fe2-55a2-4696-a911-6dfbc8b02b27",
   "metadata": {},
   "source": [
    "#### 2. convert hg19 coordinates to hg38 coordinates using liftover tool: \n",
    "https://genome.ucsc.edu/cgi-bin/hgLiftOver\n",
    "\n",
    "#### 3. rename the file downloaded from the tool as variants_hg19.bed\n",
    "\n",
    "#### 4. create a list of format that can be recognized in finngen"
   ]
  },
  {
   "cell_type": "code",
   "execution_count": 7,
   "id": "d0b05bf5-d715-400f-83e5-31fb9453d00b",
   "metadata": {},
   "outputs": [],
   "source": [
    "df0 = pd.read_csv('~/Documents/Materials/iron/variants_hg38.bed', header=None) \n",
    "df['hg38_position'] = df0[0].str.extract('\\:(\\d+)\\-') \n",
    "df['format'] = 'chr'+df.chromosome.astype(str)+''+df.hg38_position+''+df.ea+''+df.nea \n",
    "df['format_'] = 'chr'+df.chromosome.astype(str)+''+df.hg38_position+''+df.nea+''+df.ea \n",
    "df.to_csv('~/Documents/Materials/iron/all_variants_and_proxies.csv', index=False)"
   ]
  },
  {
   "cell_type": "markdown",
   "id": "5bdba3f7-b4b6-43bf-9eba-ec851291d815",
   "metadata": {},
   "source": [
    "#### 5. scrape off EAF from https://results.finngen.fi/ using rsid\n",
    "e.g. Given rs1961437,\n",
    "\n",
    "```head = '22:37114993:A:G (rs1961437)'``` \n",
    "\n",
    "```str_eaf = 'AF 9.1e-1(ranges from 9.1e-1 to 9.1e-1 across all phenotypes)'```\n",
    "\n",
    "```eaf = 0.91```"
   ]
  },
  {
   "cell_type": "code",
   "execution_count": 33,
   "id": "797b1d4b-7840-49a4-b5a5-96d3f5b7123f",
   "metadata": {},
   "outputs": [
    {
     "name": "stderr",
     "output_type": "stream",
     "text": [
      "/Library/Frameworks/Python.framework/Versions/3.7/lib/python3.7/site-packages/ipykernel_launcher.py:4: DeprecationWarning: executable_path has been deprecated, please pass in a Service object\n",
      "  after removing the cwd from sys.path.\n"
     ]
    }
   ],
   "source": [
    "import re\n",
    "from selenium import webdriver\n",
    "from selenium.webdriver.common.by import By\n",
    "from selenium.webdriver.common.keys import Keys\n",
    "from selenium.webdriver.chrome.service import Service\n",
    "browser = webdriver.Chrome(Service('/Users/feiwang/Documents/Projects/chromedriver'))\n",
    "browser.get('https://results.finngen.fi/')"
   ]
  },
  {
   "cell_type": "code",
   "execution_count": 96,
   "id": "bf8b7e07-641f-41ff-9842-2fe2e16197e9",
   "metadata": {},
   "outputs": [],
   "source": [
    "# create finn_format call according to the snp format on https://results.finngen.fi/\n",
    "df['finn_format'] = df.chromosome.astype(str)+':'+df.hg38_position.astype(str)+':'+df.ea+':'+df.nea"
   ]
  },
  {
   "cell_type": "code",
   "execution_count": 160,
   "id": "023b50d4-b780-44e2-b4e7-11e453d8f13f",
   "metadata": {
    "tags": []
   },
   "outputs": [
    {
     "name": "stderr",
     "output_type": "stream",
     "text": [
      "  0%|          | 0/1039 [00:00<?, ?it/s]/Library/Frameworks/Python.framework/Versions/3.7/lib/python3.7/site-packages/ipykernel_launcher.py:10: DeprecationWarning: find_element_by_* commands are deprecated. Please use find_element() instead\n",
      "  # Remove the CWD from sys.path while we load stuff.\n",
      "/Library/Frameworks/Python.framework/Versions/3.7/lib/python3.7/site-packages/ipykernel_launcher.py:11: DeprecationWarning: find_element_by_* commands are deprecated. Please use find_element() instead\n",
      "  # This is added back by InteractiveShellApp.init_path()\n",
      "/Library/Frameworks/Python.framework/Versions/3.7/lib/python3.7/site-packages/ipykernel_launcher.py:14: DeprecationWarning: find_element_by_* commands are deprecated. Please use find_element() instead\n",
      "  \n",
      "/Library/Frameworks/Python.framework/Versions/3.7/lib/python3.7/site-packages/ipykernel_launcher.py:22: DeprecationWarning: find_element_by_* commands are deprecated. Please use find_element() instead\n",
      "100%|██████████| 1039/1039 [1:50:57<00:00,  6.41s/it] \n"
     ]
    }
   ],
   "source": [
    "finngen_format_list, finngen_eaf_list = [], []\n",
    "\n",
    "for i in tqdm.tqdm(df.rsid.tolist()):\n",
    "#     browser.get('https://results.finngen.fi/variant/'+1:22227885-T-C)\n",
    "    # there are 9 SNPs without rsid in the file\n",
    "    if type(i) == float:\n",
    "        finngen_format_list.append('id isna')\n",
    "        finngen_eaf_list.append('id isna')\n",
    "    else:\n",
    "        browser.find_element(By.XPATH, '//*[@id=\"navbar-searchbox-input\"]').send_keys(i)\n",
    "        browser.find_element(By.XPATH, '//*[@id=\"navbar-searchbox-input\"]').send_keys(Keys.RETURN)\n",
    "        time.sleep(5)\n",
    "        try:\n",
    "            head = browser.find_element(By.XPATH, '/html/body/div/div[1]/div/h1').text\n",
    "        except:\n",
    "    #         err = browser.find_element_by_xpath('//*[@id=\"reactEntry\"]/div/div/div/p[1]').text\n",
    "            head = 'id notfound'\n",
    "        if head == 'id notfound':\n",
    "            eaf = 'id notfound'\n",
    "        else:\n",
    "            try:\n",
    "                str_eaf = browser.find_element(By.XPATH, '//*[@id=\"maf-range\"]/p').text\n",
    "                eaf = float(re.findall('AF ([\\d|\\.|e|\\-]+)\\(ranges', str_eaf)[0])\n",
    "            except:\n",
    "                eaf = 'eaf notfound'\n",
    "\n",
    "        finngen_format_list.append(head)\n",
    "        finngen_eaf_list.append(eaf)\n",
    "        time.sleep(1)"
   ]
  },
  {
   "cell_type": "code",
   "execution_count": 169,
   "id": "fab22e77-baa7-4739-a332-1935f4e17e9c",
   "metadata": {},
   "outputs": [],
   "source": [
    "df['finngen_format'] = finngen_format_list\n",
    "df['finngen_eaf'] = finngen_eaf_list"
   ]
  },
  {
   "cell_type": "code",
   "execution_count": null,
   "id": "52169a81-36c0-4001-b01d-75d7adcd2912",
   "metadata": {},
   "outputs": [],
   "source": []
  },
  {
   "cell_type": "markdown",
   "id": "6205f72d-2a4e-4bc4-835a-9ca3acc8bea8",
   "metadata": {},
   "source": [
    "#### 6. upload the file to green bucket: \n",
    "https://console.cloud.google.com/storage/browser/fg-production-sandbox-6_green\n",
    "\n",
    "gsutil cp ~/Documents/Materials/iron/all_variants_and_proxies.csv gs://fg-production-sandbox-6_green/FeiyiWang"
   ]
  },
  {
   "cell_type": "code",
   "execution_count": null,
   "id": "f5edffe8-cf52-4245-b86a-a3c2a8931e87",
   "metadata": {},
   "outputs": [],
   "source": []
  }
 ],
 "metadata": {
  "kernelspec": {
   "display_name": "Python 3",
   "language": "python",
   "name": "python3"
  },
  "language_info": {
   "codemirror_mode": {
    "name": "ipython",
    "version": 3
   },
   "file_extension": ".py",
   "mimetype": "text/x-python",
   "name": "python",
   "nbconvert_exporter": "python",
   "pygments_lexer": "ipython3",
   "version": "3.7.9"
  }
 },
 "nbformat": 4,
 "nbformat_minor": 5
}
