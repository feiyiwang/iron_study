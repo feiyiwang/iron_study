{
 "cells": [
  {
   "cell_type": "code",
   "execution_count": 1,
   "id": "36aa4f5e-fa2c-4235-a94f-d93bad486460",
   "metadata": {},
   "outputs": [],
   "source": [
    "import re\n",
    "import pandas as pd\n",
    "import tqdm, time"
   ]
  },
  {
   "cell_type": "markdown",
   "id": "935f4181-5d94-467c-9a4f-37a0c518fb2f",
   "metadata": {},
   "source": [
    "#### 1. generate a txt file with format chrN:12345678-12345678 using chromosome and hg19_position from file all_variants_and_proxies.csv"
   ]
  },
  {
   "cell_type": "code",
   "execution_count": 2,
   "id": "94cceed0-e4a2-4ae8-ba05-2b0409b333ff",
   "metadata": {},
   "outputs": [],
   "source": [
    "df = pd.read_csv('~/Documents/Materials/iron/all_variants_and_proxies.csv')\n",
    "# df['format'] = 'chr'+df.chromosome.astype(str)+':'+df.hg19_position.astype(str)+'-'+df.hg19_position.astype(str)\n",
    "# df['format'].to_csv('~/Documents/Projects/iron/variants_hg19.txt', index=False) "
   ]
  },
  {
   "cell_type": "code",
   "execution_count": 4,
   "id": "fcfb87c6-7824-47a1-8be7-2559eb6adc59",
   "metadata": {},
   "outputs": [
    {
     "data": {
      "text/html": [
       "<div>\n",
       "<style scoped>\n",
       "    .dataframe tbody tr th:only-of-type {\n",
       "        vertical-align: middle;\n",
       "    }\n",
       "\n",
       "    .dataframe tbody tr th {\n",
       "        vertical-align: top;\n",
       "    }\n",
       "\n",
       "    .dataframe thead th {\n",
       "        text-align: right;\n",
       "    }\n",
       "</style>\n",
       "<table border=\"1\" class=\"dataframe\">\n",
       "  <thead>\n",
       "    <tr style=\"text-align: right;\">\n",
       "      <th></th>\n",
       "      <th>chromosome</th>\n",
       "      <th>hg19_position</th>\n",
       "      <th>rsid</th>\n",
       "      <th>ea</th>\n",
       "      <th>nea</th>\n",
       "      <th>eaf</th>\n",
       "      <th>hg38_position</th>\n",
       "      <th>finn_format</th>\n",
       "      <th>finn_af</th>\n",
       "      <th>finn_rsid</th>\n",
       "      <th>finn_ref</th>\n",
       "      <th>finn_alt</th>\n",
       "      <th>match</th>\n",
       "      <th>finn_hg38</th>\n",
       "      <th>sandbox_format</th>\n",
       "    </tr>\n",
       "  </thead>\n",
       "  <tbody>\n",
       "    <tr>\n",
       "      <th>2</th>\n",
       "      <td>1</td>\n",
       "      <td>22584002</td>\n",
       "      <td>rs75965181</td>\n",
       "      <td>T</td>\n",
       "      <td>A</td>\n",
       "      <td>0.981417</td>\n",
       "      <td>22257509</td>\n",
       "      <td>1:22257509:T:A (rs75965181)</td>\n",
       "      <td>0.012</td>\n",
       "      <td>rs75965181</td>\n",
       "      <td>T</td>\n",
       "      <td>A</td>\n",
       "      <td>True</td>\n",
       "      <td>22257509.0</td>\n",
       "      <td>chr1_22257509_T_A</td>\n",
       "    </tr>\n",
       "  </tbody>\n",
       "</table>\n",
       "</div>"
      ],
      "text/plain": [
       "   chromosome  hg19_position        rsid ea nea       eaf  hg38_position  \\\n",
       "2           1       22584002  rs75965181  T   A  0.981417       22257509   \n",
       "\n",
       "                   finn_format finn_af   finn_rsid finn_ref finn_alt  match  \\\n",
       "2  1:22257509:T:A (rs75965181)   0.012  rs75965181        T        A   True   \n",
       "\n",
       "    finn_hg38     sandbox_format  \n",
       "2  22257509.0  chr1_22257509_T_A  "
      ]
     },
     "execution_count": 4,
     "metadata": {},
     "output_type": "execute_result"
    }
   ],
   "source": [
    "df[df.sandbox_format == 'chr1_22257509_T_A']"
   ]
  },
  {
   "cell_type": "code",
   "execution_count": 3,
   "id": "7eab1e13-fd98-425e-9168-f6ae4a785086",
   "metadata": {},
   "outputs": [
    {
     "data": {
      "text/html": [
       "<div>\n",
       "<style scoped>\n",
       "    .dataframe tbody tr th:only-of-type {\n",
       "        vertical-align: middle;\n",
       "    }\n",
       "\n",
       "    .dataframe tbody tr th {\n",
       "        vertical-align: top;\n",
       "    }\n",
       "\n",
       "    .dataframe thead th {\n",
       "        text-align: right;\n",
       "    }\n",
       "</style>\n",
       "<table border=\"1\" class=\"dataframe\">\n",
       "  <thead>\n",
       "    <tr style=\"text-align: right;\">\n",
       "      <th></th>\n",
       "      <th>chromosome</th>\n",
       "      <th>hg19_position</th>\n",
       "      <th>rsid</th>\n",
       "      <th>ea</th>\n",
       "      <th>nea</th>\n",
       "      <th>eaf</th>\n",
       "      <th>hg38_position</th>\n",
       "      <th>finn_format</th>\n",
       "      <th>finn_af</th>\n",
       "      <th>finn_rsid</th>\n",
       "      <th>finn_ref</th>\n",
       "      <th>finn_alt</th>\n",
       "      <th>match</th>\n",
       "      <th>finn_hg38</th>\n",
       "      <th>sandbox_format</th>\n",
       "    </tr>\n",
       "  </thead>\n",
       "  <tbody>\n",
       "    <tr>\n",
       "      <th>0</th>\n",
       "      <td>1</td>\n",
       "      <td>22554378</td>\n",
       "      <td>rs112191583</td>\n",
       "      <td>T</td>\n",
       "      <td>C</td>\n",
       "      <td>0.982480</td>\n",
       "      <td>22227885</td>\n",
       "      <td>1:22227885:T:C (rs112191583)</td>\n",
       "      <td>0.013</td>\n",
       "      <td>rs112191583</td>\n",
       "      <td>T</td>\n",
       "      <td>C</td>\n",
       "      <td>True</td>\n",
       "      <td>22227885.0</td>\n",
       "      <td>chr1_22227885_T_C</td>\n",
       "    </tr>\n",
       "    <tr>\n",
       "      <th>1</th>\n",
       "      <td>1</td>\n",
       "      <td>22572707</td>\n",
       "      <td>rs79052526</td>\n",
       "      <td>G</td>\n",
       "      <td>A</td>\n",
       "      <td>0.982444</td>\n",
       "      <td>22246214</td>\n",
       "      <td>1:22246214:G:A (rs79052526)</td>\n",
       "      <td>0.013</td>\n",
       "      <td>rs79052526</td>\n",
       "      <td>G</td>\n",
       "      <td>A</td>\n",
       "      <td>True</td>\n",
       "      <td>22246214.0</td>\n",
       "      <td>chr1_22246214_G_A</td>\n",
       "    </tr>\n",
       "    <tr>\n",
       "      <th>2</th>\n",
       "      <td>1</td>\n",
       "      <td>22584002</td>\n",
       "      <td>rs75965181</td>\n",
       "      <td>T</td>\n",
       "      <td>A</td>\n",
       "      <td>0.981417</td>\n",
       "      <td>22257509</td>\n",
       "      <td>1:22257509:T:A (rs75965181)</td>\n",
       "      <td>0.012</td>\n",
       "      <td>rs75965181</td>\n",
       "      <td>T</td>\n",
       "      <td>A</td>\n",
       "      <td>True</td>\n",
       "      <td>22257509.0</td>\n",
       "      <td>chr1_22257509_T_A</td>\n",
       "    </tr>\n",
       "    <tr>\n",
       "      <th>3</th>\n",
       "      <td>1</td>\n",
       "      <td>66073952</td>\n",
       "      <td>rs6664374</td>\n",
       "      <td>T</td>\n",
       "      <td>C</td>\n",
       "      <td>0.348560</td>\n",
       "      <td>65608269</td>\n",
       "      <td>id notfound</td>\n",
       "      <td>id notfound</td>\n",
       "      <td>NaN</td>\n",
       "      <td>NaN</td>\n",
       "      <td>NaN</td>\n",
       "      <td>False</td>\n",
       "      <td>NaN</td>\n",
       "      <td>NaN</td>\n",
       "    </tr>\n",
       "    <tr>\n",
       "      <th>4</th>\n",
       "      <td>1</td>\n",
       "      <td>66077624</td>\n",
       "      <td>rs6678033</td>\n",
       "      <td>A</td>\n",
       "      <td>G</td>\n",
       "      <td>0.367740</td>\n",
       "      <td>65611941</td>\n",
       "      <td>1:65611941:G:A (rs6678033)</td>\n",
       "      <td>0.46</td>\n",
       "      <td>rs6678033</td>\n",
       "      <td>G</td>\n",
       "      <td>A</td>\n",
       "      <td>True</td>\n",
       "      <td>65611941.0</td>\n",
       "      <td>chr1_65611941_G_A</td>\n",
       "    </tr>\n",
       "    <tr>\n",
       "      <th>...</th>\n",
       "      <td>...</td>\n",
       "      <td>...</td>\n",
       "      <td>...</td>\n",
       "      <td>...</td>\n",
       "      <td>...</td>\n",
       "      <td>...</td>\n",
       "      <td>...</td>\n",
       "      <td>...</td>\n",
       "      <td>...</td>\n",
       "      <td>...</td>\n",
       "      <td>...</td>\n",
       "      <td>...</td>\n",
       "      <td>...</td>\n",
       "      <td>...</td>\n",
       "      <td>...</td>\n",
       "    </tr>\n",
       "    <tr>\n",
       "      <th>3181</th>\n",
       "      <td>22</td>\n",
       "      <td>37508424</td>\n",
       "      <td>rs5756519</td>\n",
       "      <td>G</td>\n",
       "      <td>C</td>\n",
       "      <td>0.575880</td>\n",
       "      <td>37112384</td>\n",
       "      <td>22:37112384:G:C (rs5756519)</td>\n",
       "      <td>0.45</td>\n",
       "      <td>rs5756519</td>\n",
       "      <td>G</td>\n",
       "      <td>C</td>\n",
       "      <td>True</td>\n",
       "      <td>37112384.0</td>\n",
       "      <td>chr22_37112384_G_C</td>\n",
       "    </tr>\n",
       "    <tr>\n",
       "      <th>3182</th>\n",
       "      <td>22</td>\n",
       "      <td>37508507</td>\n",
       "      <td>rs5756520</td>\n",
       "      <td>G</td>\n",
       "      <td>A</td>\n",
       "      <td>0.575300</td>\n",
       "      <td>37112467</td>\n",
       "      <td>22:37112467:G:A (rs5756520)</td>\n",
       "      <td>0.45</td>\n",
       "      <td>rs5756520</td>\n",
       "      <td>G</td>\n",
       "      <td>A</td>\n",
       "      <td>True</td>\n",
       "      <td>37112467.0</td>\n",
       "      <td>chr22_37112467_G_A</td>\n",
       "    </tr>\n",
       "    <tr>\n",
       "      <th>3183</th>\n",
       "      <td>22</td>\n",
       "      <td>37509844</td>\n",
       "      <td>rs228928</td>\n",
       "      <td>T</td>\n",
       "      <td>C</td>\n",
       "      <td>0.130130</td>\n",
       "      <td>37113804</td>\n",
       "      <td>22:37113804:T:C (rs228928)</td>\n",
       "      <td>0.91</td>\n",
       "      <td>rs228928</td>\n",
       "      <td>T</td>\n",
       "      <td>C</td>\n",
       "      <td>True</td>\n",
       "      <td>37113804.0</td>\n",
       "      <td>chr22_37113804_T_C</td>\n",
       "    </tr>\n",
       "    <tr>\n",
       "      <th>3184</th>\n",
       "      <td>22</td>\n",
       "      <td>37509965</td>\n",
       "      <td>rs228929</td>\n",
       "      <td>A</td>\n",
       "      <td>C</td>\n",
       "      <td>0.129970</td>\n",
       "      <td>37113925</td>\n",
       "      <td>22:37113925:A:C (rs228929)</td>\n",
       "      <td>0.91</td>\n",
       "      <td>rs228929</td>\n",
       "      <td>A</td>\n",
       "      <td>C</td>\n",
       "      <td>True</td>\n",
       "      <td>37113925.0</td>\n",
       "      <td>chr22_37113925_A_C</td>\n",
       "    </tr>\n",
       "    <tr>\n",
       "      <th>3185</th>\n",
       "      <td>22</td>\n",
       "      <td>37511033</td>\n",
       "      <td>rs1961437</td>\n",
       "      <td>A</td>\n",
       "      <td>G</td>\n",
       "      <td>0.130370</td>\n",
       "      <td>37114993</td>\n",
       "      <td>22:37114993:A:G (rs1961437)</td>\n",
       "      <td>0.91</td>\n",
       "      <td>rs1961437</td>\n",
       "      <td>A</td>\n",
       "      <td>G</td>\n",
       "      <td>True</td>\n",
       "      <td>37114993.0</td>\n",
       "      <td>chr22_37114993_A_G</td>\n",
       "    </tr>\n",
       "  </tbody>\n",
       "</table>\n",
       "<p>3186 rows × 15 columns</p>\n",
       "</div>"
      ],
      "text/plain": [
       "      chromosome  hg19_position         rsid ea nea       eaf  hg38_position  \\\n",
       "0              1       22554378  rs112191583  T   C  0.982480       22227885   \n",
       "1              1       22572707   rs79052526  G   A  0.982444       22246214   \n",
       "2              1       22584002   rs75965181  T   A  0.981417       22257509   \n",
       "3              1       66073952    rs6664374  T   C  0.348560       65608269   \n",
       "4              1       66077624    rs6678033  A   G  0.367740       65611941   \n",
       "...          ...            ...          ... ..  ..       ...            ...   \n",
       "3181          22       37508424    rs5756519  G   C  0.575880       37112384   \n",
       "3182          22       37508507    rs5756520  G   A  0.575300       37112467   \n",
       "3183          22       37509844     rs228928  T   C  0.130130       37113804   \n",
       "3184          22       37509965     rs228929  A   C  0.129970       37113925   \n",
       "3185          22       37511033    rs1961437  A   G  0.130370       37114993   \n",
       "\n",
       "                       finn_format      finn_af    finn_rsid finn_ref  \\\n",
       "0     1:22227885:T:C (rs112191583)        0.013  rs112191583        T   \n",
       "1      1:22246214:G:A (rs79052526)        0.013   rs79052526        G   \n",
       "2      1:22257509:T:A (rs75965181)        0.012   rs75965181        T   \n",
       "3                      id notfound  id notfound          NaN      NaN   \n",
       "4       1:65611941:G:A (rs6678033)         0.46    rs6678033        G   \n",
       "...                            ...          ...          ...      ...   \n",
       "3181   22:37112384:G:C (rs5756519)         0.45    rs5756519        G   \n",
       "3182   22:37112467:G:A (rs5756520)         0.45    rs5756520        G   \n",
       "3183    22:37113804:T:C (rs228928)         0.91     rs228928        T   \n",
       "3184    22:37113925:A:C (rs228929)         0.91     rs228929        A   \n",
       "3185   22:37114993:A:G (rs1961437)         0.91    rs1961437        A   \n",
       "\n",
       "     finn_alt  match   finn_hg38      sandbox_format  \n",
       "0           C   True  22227885.0   chr1_22227885_T_C  \n",
       "1           A   True  22246214.0   chr1_22246214_G_A  \n",
       "2           A   True  22257509.0   chr1_22257509_T_A  \n",
       "3         NaN  False         NaN                 NaN  \n",
       "4           A   True  65611941.0   chr1_65611941_G_A  \n",
       "...       ...    ...         ...                 ...  \n",
       "3181        C   True  37112384.0  chr22_37112384_G_C  \n",
       "3182        A   True  37112467.0  chr22_37112467_G_A  \n",
       "3183        C   True  37113804.0  chr22_37113804_T_C  \n",
       "3184        C   True  37113925.0  chr22_37113925_A_C  \n",
       "3185        G   True  37114993.0  chr22_37114993_A_G  \n",
       "\n",
       "[3186 rows x 15 columns]"
      ]
     },
     "execution_count": 3,
     "metadata": {},
     "output_type": "execute_result"
    }
   ],
   "source": [
    "df"
   ]
  },
  {
   "cell_type": "markdown",
   "id": "70f47fe2-55a2-4696-a911-6dfbc8b02b27",
   "metadata": {},
   "source": [
    "#### 2. convert hg19 coordinates to hg38 coordinates using liftover tool: \n",
    "https://genome.ucsc.edu/cgi-bin/hgLiftOver\n",
    "\n",
    "#### 3. rename the file downloaded from the tool as variants_hg19.bed and then add it to all_variants_and_proxies.csv"
   ]
  },
  {
   "cell_type": "code",
   "execution_count": 7,
   "id": "d0b05bf5-d715-400f-83e5-31fb9453d00b",
   "metadata": {},
   "outputs": [],
   "source": [
    "df0 = pd.read_csv('~/Documents/Materials/iron/variants_hg38.bed', header=None) \n",
    "df['hg38_position'] = df0[0].str.extract('\\:(\\d+)\\-') \n",
    "df.to_csv('~/Documents/Materials/iron/all_variants_and_proxies.csv', index=False)"
   ]
  },
  {
   "cell_type": "markdown",
   "id": "5bdba3f7-b4b6-43bf-9eba-ec851291d815",
   "metadata": {},
   "source": [
    "#### 4. scrape off head and AF from https://results.finngen.fi/ using rsid\n",
    "backend of finngen dashboard: https://github.com/FINNGEN/saige-pipelines/blob/master/wdl/gwas/saige.json\n",
    "\n",
    "e.g. Given rs1961437,\n",
    "\n",
    "```head = '22:37114993:A:G (rs1961437)'``` \n",
    "\n",
    "```str_af = 'AF 9.1e-1(ranges from 9.1e-1 to 9.1e-1 across all phenotypes)'```\n",
    "\n",
    "```af = 0.91```"
   ]
  },
  {
   "cell_type": "code",
   "execution_count": 33,
   "id": "797b1d4b-7840-49a4-b5a5-96d3f5b7123f",
   "metadata": {},
   "outputs": [
    {
     "name": "stderr",
     "output_type": "stream",
     "text": [
      "/Library/Frameworks/Python.framework/Versions/3.7/lib/python3.7/site-packages/ipykernel_launcher.py:4: DeprecationWarning: executable_path has been deprecated, please pass in a Service object\n",
      "  after removing the cwd from sys.path.\n"
     ]
    }
   ],
   "source": [
    "from selenium import webdriver\n",
    "from selenium.webdriver.common.by import By\n",
    "from selenium.webdriver.common.keys import Keys\n",
    "from selenium.webdriver.chrome.service import Service\n",
    "browser = webdriver.Chrome(Service('/Users/feiwang/Documents/Projects/chromedriver'))\n",
    "browser.get('https://results.finngen.fi/')"
   ]
  },
  {
   "cell_type": "code",
   "execution_count": 160,
   "id": "023b50d4-b780-44e2-b4e7-11e453d8f13f",
   "metadata": {
    "tags": []
   },
   "outputs": [
    {
     "name": "stderr",
     "output_type": "stream",
     "text": [
      "  0%|          | 0/1039 [00:00<?, ?it/s]/Library/Frameworks/Python.framework/Versions/3.7/lib/python3.7/site-packages/ipykernel_launcher.py:10: DeprecationWarning: find_element_by_* commands are deprecated. Please use find_element() instead\n",
      "  # Remove the CWD from sys.path while we load stuff.\n",
      "/Library/Frameworks/Python.framework/Versions/3.7/lib/python3.7/site-packages/ipykernel_launcher.py:11: DeprecationWarning: find_element_by_* commands are deprecated. Please use find_element() instead\n",
      "  # This is added back by InteractiveShellApp.init_path()\n",
      "/Library/Frameworks/Python.framework/Versions/3.7/lib/python3.7/site-packages/ipykernel_launcher.py:14: DeprecationWarning: find_element_by_* commands are deprecated. Please use find_element() instead\n",
      "  \n",
      "/Library/Frameworks/Python.framework/Versions/3.7/lib/python3.7/site-packages/ipykernel_launcher.py:22: DeprecationWarning: find_element_by_* commands are deprecated. Please use find_element() instead\n",
      "100%|██████████| 1039/1039 [1:50:57<00:00,  6.41s/it] \n"
     ]
    }
   ],
   "source": [
    "finngen_format_list, finngen_af_list = [], []\n",
    "\n",
    "for i in tqdm.tqdm(df.rsid.tolist()):\n",
    "#     browser.get('https://results.finngen.fi/variant/'+1:22227885-T-C)\n",
    "    # there are 9 SNPs without rsid in the file\n",
    "    if type(i) == float:\n",
    "        finngen_format_list.append('id isna')\n",
    "        finngen_eaf_list.append('id isna')\n",
    "    else:\n",
    "        browser.find_element(By.XPATH, '//*[@id=\"navbar-searchbox-input\"]').send_keys(i)\n",
    "        browser.find_element(By.XPATH, '//*[@id=\"navbar-searchbox-input\"]').send_keys(Keys.RETURN)\n",
    "        time.sleep(5)\n",
    "        try:\n",
    "            head = browser.find_element(By.XPATH, '/html/body/div/div[1]/div/h1').text\n",
    "        except:\n",
    "    #         err = browser.find_element_by_xpath('//*[@id=\"reactEntry\"]/div/div/div/p[1]').text\n",
    "            head = 'id notfound'\n",
    "        if head == 'id notfound':\n",
    "            eaf = 'id notfound'\n",
    "        else:\n",
    "            try:\n",
    "                str_af = browser.find_element(By.XPATH, '//*[@id=\"maf-range\"]/p').text\n",
    "                af = float(re.findall('AF ([\\d|\\.|e|\\-]+)\\(ranges', str_eaf)[0])\n",
    "            except:\n",
    "                af = 'eaf notfound'\n",
    "\n",
    "        finngen_format_list.append(head)\n",
    "        finngen_af_list.append(af)\n",
    "        time.sleep(1)"
   ]
  },
  {
   "cell_type": "code",
   "execution_count": 169,
   "id": "fab22e77-baa7-4739-a332-1935f4e17e9c",
   "metadata": {},
   "outputs": [],
   "source": [
    "df['finn_format'] = finngen_format_list\n",
    "df['finn_af'] = finngen_af_list"
   ]
  },
  {
   "cell_type": "code",
   "execution_count": 198,
   "id": "0a849fb2-e6a4-4e68-8192-351187ecbf40",
   "metadata": {},
   "outputs": [],
   "source": [
    "df['finn_rsid'] = df.finn_format.str.extract(' \\((rs\\d+)\\)')\n",
    "df['finn_ref'] = df.finn_format.str.extract(':(\\w+):\\w+ \\(')\n",
    "df['finn_alt'] = df.finn_format.str.extract(':\\w+:(\\w+) \\(')"
   ]
  },
  {
   "cell_type": "code",
   "execution_count": 199,
   "id": "487270fd-aab7-4071-bc2a-3b7e935c9b9c",
   "metadata": {},
   "outputs": [],
   "source": [
    "df['match'] = df.finn_rsid == df.rsid"
   ]
  },
  {
   "cell_type": "code",
   "execution_count": 204,
   "id": "32ad91bf-2ff5-407f-a7c9-7968685c7add",
   "metadata": {},
   "outputs": [],
   "source": [
    "for i, row in df[(df.match == False)&(df.finn_rsid.isna())&(df.finn_format != 'id notfound')].iterrows():\n",
    "    id_list = re.findall('(rs\\d+)',row.finn_format)\n",
    "    if row.rsid in id_list:\n",
    "        df.loc[i,'finn_rsid'] = row.rsid\n",
    "        df.loc[i,'match'] = True"
   ]
  },
  {
   "cell_type": "code",
   "execution_count": 245,
   "id": "fea2c101-1b1e-4cce-bbe6-9fafaa466dd5",
   "metadata": {},
   "outputs": [
    {
     "name": "stdout",
     "output_type": "stream",
     "text": [
      "514 cannot be found unfortunately\n",
      "2672 were found successfully\n"
     ]
    }
   ],
   "source": [
    "print(len(df[df.match == False]),'cannot be found unfortunately')\n",
    "print(len(df)-len(df[df.match == False]),'were found successfully')"
   ]
  },
  {
   "cell_type": "markdown",
   "id": "768e9dc4-c6b7-422a-af66-9cd6ade087f8",
   "metadata": {},
   "source": [
    "#### 5. create a list of format that can be recognized in finngen sandbox"
   ]
  },
  {
   "cell_type": "code",
   "execution_count": 241,
   "id": "161862fd-0c43-41fd-8f1a-d0751c50bf68",
   "metadata": {},
   "outputs": [],
   "source": [
    "df['finn_hg38'] = df.finn_format.str.extract('\\d{1,2}\\:(\\d+)\\:\\w+\\:')\n",
    "df['sandbox_format'] = 'chr'+df.chromosome.astype(str)+'_'+df.finn_hg38+'_'+df.finn_ref+'_'+df.finn_alt\n",
    "df.to_csv('~/Documents/Materials/iron/all_variants_and_proxies.csv', index=False)"
   ]
  },
  {
   "cell_type": "markdown",
   "id": "6205f72d-2a4e-4bc4-835a-9ca3acc8bea8",
   "metadata": {},
   "source": [
    "#### 6. obtain phecode_map from PheWAS package in R\n",
    "See phecode_map.R for detail\n",
    "#### 7. label a PheCode if it is sex-specified\n",
    "Download sex-specified PheCode dictionary from https://phewascatalog.org/files/phecode_definitions1.2.csv.zip"
   ]
  },
  {
   "cell_type": "code",
   "execution_count": 411,
   "id": "65d8636e-face-45bb-a587-d41e8b2d7086",
   "metadata": {},
   "outputs": [],
   "source": [
    "phecode_map = pd.read_csv('~/Documents/Materials/iron/phecode_map.csv') \n",
    "phecode_def = pd.read_csv('~/Documents/Materials/iron/phecode_definitions1.2.csv') \n",
    "phecode_list = phecode_map.phecode.unique().tolist()\n",
    "phecode_dict = pd.DataFrame({'phecode':phecode_list})\n",
    "phecode_dict = phecode_dict.merge(phecode_def[['phecode','sex']], 'left')"
   ]
  },
  {
   "cell_type": "code",
   "execution_count": 416,
   "id": "b579f1b5-0f9e-4cb0-8550-efd223a1bac5",
   "metadata": {},
   "outputs": [],
   "source": [
    "phecode_sex = phecode_dict[(~phecode_dict.sex.isna())&(phecode_dict.sex != 'Both')]\n",
    "# in total 166 sex-specified phecodes\n",
    "phecode_sex.to_csv('~/Documents/Materials/iron/phecode_sex.csv', index=None)"
   ]
  },
  {
   "cell_type": "markdown",
   "id": "7f884619-c582-4c7a-8645-79e72c54dc2e",
   "metadata": {},
   "source": [
    "#### 8. upload the files to green bucket: \n",
    "https://console.cloud.google.com/storage/browser/fg-production-sandbox-6_green\n",
    "\n",
    "gsutil cp ~/Documents/Materials/iron/all_variants_and_proxies.csv gs://fg-production-sandbox-6_green/FeiyiWang\n",
    "\n",
    "gsutil cp ~/Documents/Materials/iron/phecode_map.csv gs://fg-production-sandbox-6_green/FeiyiWang\n",
    "\n",
    "gsutil cp ~/Documents/Materials/iron/phecode_sex.csv gs://fg-production-sandbox-6_green/FeiyiWang"
   ]
  },
  {
   "cell_type": "markdown",
   "id": "ae2c4600-44cf-41cc-83ea-d25d130a1860",
   "metadata": {},
   "source": [
    "#### 9. rerun the process for the final version:"
   ]
  },
  {
   "cell_type": "code",
   "execution_count": 5,
   "id": "30f9c3a6-2568-417e-ad35-c308acce0df6",
   "metadata": {},
   "outputs": [],
   "source": [
    "df = pd.read_csv('~/Documents/Materials/iron/all_variants_and_proxies.csv')\n",
    "df = df[df.match == True]\n",
    "df_final = pd.read_csv('~/Documents/Materials/iron/all_variants_and_proxies_finn_af_final.csv')\n",
    "df_final['index'] = df_final.index\n",
    "# add sandbox format to df_final\n",
    "df_final = df_final.merge(df[['rsid','sandbox_format']].drop_duplicates(),'left')\n",
    "# save the data\n",
    "df_final.to_csv('~/Documents/Materials/iron/all_variants_and_proxies_finn_af_final.csv', index=None)\n",
    "# upload the data to the green bucket"
   ]
  },
  {
   "cell_type": "markdown",
   "id": "a34eb8b1-f49a-4b45-99c5-275833862da0",
   "metadata": {},
   "source": [
    "gsutil cp ~/Documents/Materials/iron/all_variants_and_proxies_finn_af_final.csv gs://fg-production-sandbox-6_green/FeiyiWang"
   ]
  },
  {
   "cell_type": "markdown",
   "id": "e5c325d2-1011-4e08-aed6-3ccb262247ed",
   "metadata": {},
   "source": [
    "#### 10. download summary statistics\n",
    "download the final results from green box to local machine for 2SMR analysis\n",
    "\n",
    "gsutil cp gs://given_link/results.csv ~/Documents/Materials/iron/"
   ]
  }
 ],
 "metadata": {
  "kernelspec": {
   "display_name": "Python 3",
   "language": "python",
   "name": "python3"
  },
  "language_info": {
   "codemirror_mode": {
    "name": "ipython",
    "version": 3
   },
   "file_extension": ".py",
   "mimetype": "text/x-python",
   "name": "python",
   "nbconvert_exporter": "python",
   "pygments_lexer": "ipython3",
   "version": "3.7.9"
  }
 },
 "nbformat": 4,
 "nbformat_minor": 5
}
