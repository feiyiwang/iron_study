{
 "cells": [
  {
   "cell_type": "code",
   "execution_count": 2,
   "id": "36aa4f5e-fa2c-4235-a94f-d93bad486460",
   "metadata": {},
   "outputs": [],
   "source": [
    "import re\n",
    "import pandas as pd\n",
    "import tqdm, time\n",
    "file_dir = '~/Documents/Materials/iron/'"
   ]
  },
  {
   "cell_type": "markdown",
   "id": "935f4181-5d94-467c-9a4f-37a0c518fb2f",
   "metadata": {},
   "source": [
    "#### 1. generate a txt file with format chrN:12345678-12345678 using chromosome and hg19_position from file all_variants_and_proxies.csv"
   ]
  },
  {
   "cell_type": "code",
   "execution_count": 5,
   "id": "94cceed0-e4a2-4ae8-ba05-2b0409b333ff",
   "metadata": {},
   "outputs": [],
   "source": [
    "df = pd.read_csv(file_dir+'all_variants_and_proxies_new.csv')\n",
    "df['format'] = 'chr'+df.variant2_chromosome.astype(str)+':'+df.variant2_hg19_position.astype(str)+'-'+df.variant2_hg19_position.astype(str)\n",
    "df['format'].to_csv(file_dir+'variants_hg19_new.txt', index=False) "
   ]
  },
  {
   "cell_type": "markdown",
   "id": "70f47fe2-55a2-4696-a911-6dfbc8b02b27",
   "metadata": {},
   "source": [
    "#### 2. convert hg19 coordinates to hg38 coordinates using liftover tool: \n",
    "https://genome.ucsc.edu/cgi-bin/hgLiftOver\n",
    "\n",
    "#### 3. rename the file downloaded from the tool as variants_hg19.bed and then add it to all_variants_and_proxies.csv"
   ]
  },
  {
   "cell_type": "code",
   "execution_count": 7,
   "id": "d0b05bf5-d715-400f-83e5-31fb9453d00b",
   "metadata": {},
   "outputs": [],
   "source": [
    "df0 = pd.read_csv(file_dir+'variants_hg38_new.bed', header=None) \n",
    "df['hg38_position'] = df0[0].str.extract('\\:(\\d+)\\-') \n",
    "df.to_csv(file_dir+'all_variants_and_proxies_new.csv', index=False)"
   ]
  },
  {
   "cell_type": "markdown",
   "id": "6205f72d-2a4e-4bc4-835a-9ca3acc8bea8",
   "metadata": {},
   "source": [
    "#### 4. obtain phecode_map from PheWAS package in R\n",
    "See phecode_map.R for detail\n",
    "#### 5. label a PheCode if it is sex-specified\n",
    "Download sex-specified PheCode dictionary from https://phewascatalog.org/files/phecode_definitions1.2.csv.zip"
   ]
  },
  {
   "cell_type": "code",
   "execution_count": 411,
   "id": "65d8636e-face-45bb-a587-d41e8b2d7086",
   "metadata": {},
   "outputs": [],
   "source": [
    "phecode_map = pd.read_csv(file_dir+'phecode_map.csv') \n",
    "phecode_def = pd.read_csv(file_dir+'phecode_definitions1.2.csv') \n",
    "phecode_list = phecode_map.phecode.unique().tolist()\n",
    "phecode_dict = pd.DataFrame({'phecode':phecode_list})\n",
    "phecode_dict = phecode_dict.merge(phecode_def[['phecode','sex']], 'left')"
   ]
  },
  {
   "cell_type": "code",
   "execution_count": 416,
   "id": "b579f1b5-0f9e-4cb0-8550-efd223a1bac5",
   "metadata": {},
   "outputs": [],
   "source": [
    "phecode_sex = phecode_dict[(~phecode_dict.sex.isna())&(phecode_dict.sex != 'Both')]\n",
    "# in total 166 sex-specified phecodes\n",
    "phecode_sex.to_csv(file_dir+'phecode_sex.csv', index=None)"
   ]
  },
  {
   "cell_type": "markdown",
   "id": "7f884619-c582-4c7a-8645-79e72c54dc2e",
   "metadata": {},
   "source": [
    "#### 6. upload the file to green bucket for adding AF and finding out the SNPs we have in Finngen\n",
    "\n",
    "gsutil cp ~/Documents/Materials/iron/all_variants_and_proxies_new.csv gs://given_link"
   ]
  },
  {
   "cell_type": "markdown",
   "id": "ae2c4600-44cf-41cc-83ea-d25d130a1860",
   "metadata": {},
   "source": [
    "#### 7. upload the new file with selected SNPs and rerun the process for the final version:"
   ]
  },
  {
   "cell_type": "code",
   "execution_count": 3,
   "id": "9150f0d8-0721-44db-9f93-29b206c732d8",
   "metadata": {},
   "outputs": [],
   "source": [
    "df = pd.read_csv(file_dir+'finngen_all_variants_and_proxies_new_final.csv')\n",
    "df['format'] = 'chr'+df.variant2_chromosome.astype(str)+':'+df.variant2_hg19_position.astype(str)+'-'+df.variant2_hg19_position.astype(str)\n",
    "df['format'].to_csv(file_dir+'variants_hg19_new_final.txt', index=False) "
   ]
  },
  {
   "cell_type": "markdown",
   "id": "e98cf3f5-79dc-4ca4-ae7d-3028bc2da516",
   "metadata": {},
   "source": [
    "##### lift over: https://genome.ucsc.edu/cgi-bin/hgLiftOver"
   ]
  },
  {
   "cell_type": "code",
   "execution_count": 4,
   "id": "3d459d3c-e690-4fe8-9fc4-25d8c42045ef",
   "metadata": {},
   "outputs": [],
   "source": [
    "df0 = pd.read_csv(file_dir+'variants_hg38_new_final.bed', header=None) \n",
    "df['hg38_position'] = df0[0].str.extract('\\:(\\d+)\\-') \n",
    "df.to_csv(file_dir+'all_variants_and_proxies_new_final.csv', index=False)"
   ]
  },
  {
   "cell_type": "markdown",
   "id": "d20fc566-ed10-421d-b27d-408fcc114d1a",
   "metadata": {},
   "source": [
    "gsutil cp ~/Documents/Materials/iron/finngen_all_variants_and_proxies_new_final.csv gs://given_link\n",
    "\n",
    "- gsutil cp ~/Documents/Materials/iron/phecode_map.csv gs://given_link\n",
    "\n",
    "- gsutil cp ~/Documents/Materials/iron/phecode_sex.csv gs://given_link"
   ]
  },
  {
   "cell_type": "markdown",
   "id": "e5c325d2-1011-4e08-aed6-3ccb262247ed",
   "metadata": {},
   "source": [
    "#### 8. download summary statistics\n",
    "download the final results from green box to local machine for 2SMR analysis\n",
    "\n",
    "gsutil cp gs://given_link/results.csv ~/Documents/Materials/iron/"
   ]
  },
  {
   "cell_type": "markdown",
   "id": "9ee3152c-aa30-49cd-9a93-72c64a22e0f8",
   "metadata": {},
   "source": [
    "chr6_26090957_A_T, chr6_26092913_G_A, chr6_26104404_T_G\n",
    "\n",
    "- '401': 'I9_HYPTENS',\n",
    "- '280': 'D3_ANAEMIA_IRONDEF',\n",
    "- '285': 'D3_ANAEMIANAS',\n",
    "- '275': 'E4_MINERAL_MET'"
   ]
  },
  {
   "cell_type": "code",
   "execution_count": 45,
   "id": "003b9738-2085-4e1e-9747-7079b0347224",
   "metadata": {},
   "outputs": [],
   "source": [
    "phecode_def = pd.read_csv(file_dir+'phecode_definitions1.2.csv') "
   ]
  },
  {
   "cell_type": "code",
   "execution_count": 49,
   "id": "5bd1f5f2-be8d-4004-b7f6-02315e27e9b5",
   "metadata": {},
   "outputs": [
    {
     "data": {
      "text/html": [
       "<div>\n",
       "<style scoped>\n",
       "    .dataframe tbody tr th:only-of-type {\n",
       "        vertical-align: middle;\n",
       "    }\n",
       "\n",
       "    .dataframe tbody tr th {\n",
       "        vertical-align: top;\n",
       "    }\n",
       "\n",
       "    .dataframe thead th {\n",
       "        text-align: right;\n",
       "    }\n",
       "</style>\n",
       "<table border=\"1\" class=\"dataframe\">\n",
       "  <thead>\n",
       "    <tr style=\"text-align: right;\">\n",
       "      <th></th>\n",
       "      <th>phecode</th>\n",
       "      <th>phenotype</th>\n",
       "      <th>phecode_exclude_range</th>\n",
       "      <th>sex</th>\n",
       "      <th>rollup</th>\n",
       "      <th>leaf</th>\n",
       "      <th>category_number</th>\n",
       "      <th>category</th>\n",
       "    </tr>\n",
       "  </thead>\n",
       "  <tbody>\n",
       "    <tr>\n",
       "      <th>356</th>\n",
       "      <td>275.0</td>\n",
       "      <td>Disorders of mineral metabolism</td>\n",
       "      <td>275-275.99</td>\n",
       "      <td>NaN</td>\n",
       "      <td>1</td>\n",
       "      <td>0</td>\n",
       "      <td>3</td>\n",
       "      <td>endocrine/metabolic</td>\n",
       "    </tr>\n",
       "  </tbody>\n",
       "</table>\n",
       "</div>"
      ],
      "text/plain": [
       "     phecode                        phenotype phecode_exclude_range  sex  \\\n",
       "356    275.0  Disorders of mineral metabolism            275-275.99  NaN   \n",
       "\n",
       "     rollup  leaf  category_number             category  \n",
       "356       1     0                3  endocrine/metabolic  "
      ]
     },
     "execution_count": 49,
     "metadata": {},
     "output_type": "execute_result"
    }
   ],
   "source": [
    "phecode_def[phecode_def.phecode == 275.]"
   ]
  },
  {
   "cell_type": "code",
   "execution_count": 31,
   "id": "1487e80f-46e7-4d03-a965-3bc4110c06e0",
   "metadata": {},
   "outputs": [],
   "source": [
    "results = pd.read_csv(file_dir+'results1.csv', dtype={5:'str'})\n",
    "results = results.rename(columns={'Unnamed: 0':'snp'})"
   ]
  },
  {
   "cell_type": "code",
   "execution_count": 33,
   "id": "b42ef0ef-757e-4540-8ed5-a766e8586a50",
   "metadata": {},
   "outputs": [],
   "source": [
    "results['Coef.'] = results['Coef.']*(-1)"
   ]
  },
  {
   "cell_type": "code",
   "execution_count": 34,
   "id": "7d2104c6-2dea-40cc-8fae-fe4f998bb0ff",
   "metadata": {},
   "outputs": [],
   "source": [
    "results.to_csv(file_dir+'results.csv', index=None)"
   ]
  },
  {
   "cell_type": "code",
   "execution_count": 30,
   "id": "04408e03-a8c0-4bc8-bd94-1332b5dd770e",
   "metadata": {},
   "outputs": [
    {
     "data": {
      "text/plain": [
       "array(['chr6_26090951_C_G', 'chr6_26092913_G_A', 'chr6_26098246_T_C',\n",
       "       'chr6_26090957_A_T'], dtype=object)"
      ]
     },
     "execution_count": 30,
     "metadata": {},
     "output_type": "execute_result"
    }
   ],
   "source": [
    "results[results.snp.str.startswith('chr6_2609')].snp.unique()"
   ]
  },
  {
   "cell_type": "code",
   "execution_count": 3,
   "id": "64b4b9e5-d713-4c7c-b3d4-05a2b664bffd",
   "metadata": {},
   "outputs": [],
   "source": [
    "af = pd.read_csv(file_dir+'select_snp_af.csv')"
   ]
  },
  {
   "cell_type": "code",
   "execution_count": 62,
   "id": "2b15ae06-5c3d-448d-b8fe-a5311cebc02f",
   "metadata": {},
   "outputs": [
    {
     "data": {
      "text/html": [
       "<div>\n",
       "<style scoped>\n",
       "    .dataframe tbody tr th:only-of-type {\n",
       "        vertical-align: middle;\n",
       "    }\n",
       "\n",
       "    .dataframe tbody tr th {\n",
       "        vertical-align: top;\n",
       "    }\n",
       "\n",
       "    .dataframe thead th {\n",
       "        text-align: right;\n",
       "    }\n",
       "</style>\n",
       "<table border=\"1\" class=\"dataframe\">\n",
       "  <thead>\n",
       "    <tr style=\"text-align: right;\">\n",
       "      <th></th>\n",
       "      <th>chromosome</th>\n",
       "      <th>hg19_position</th>\n",
       "      <th>rsid</th>\n",
       "      <th>ea</th>\n",
       "      <th>nea</th>\n",
       "      <th>eaf</th>\n",
       "      <th>hg38_position</th>\n",
       "      <th>finn_format</th>\n",
       "      <th>finn_af</th>\n",
       "      <th>finn_rsid</th>\n",
       "      <th>finn_ref</th>\n",
       "      <th>finn_alt</th>\n",
       "      <th>match</th>\n",
       "      <th>finn_hg38</th>\n",
       "      <th>sandbox_format</th>\n",
       "      <th>sandbox_af</th>\n",
       "    </tr>\n",
       "  </thead>\n",
       "  <tbody>\n",
       "    <tr>\n",
       "      <th>72</th>\n",
       "      <td>6</td>\n",
       "      <td>26104632</td>\n",
       "      <td>rs198851</td>\n",
       "      <td>T</td>\n",
       "      <td>G</td>\n",
       "      <td>0.15148</td>\n",
       "      <td>26104404</td>\n",
       "      <td>6:26104404:T:G (rs198851)</td>\n",
       "      <td>0.89</td>\n",
       "      <td>rs198851</td>\n",
       "      <td>T</td>\n",
       "      <td>G</td>\n",
       "      <td>True</td>\n",
       "      <td>26104404.0</td>\n",
       "      <td>chr6_26104404_T_G</td>\n",
       "      <td>0.89002</td>\n",
       "    </tr>\n",
       "    <tr>\n",
       "      <th>73</th>\n",
       "      <td>6</td>\n",
       "      <td>26104632</td>\n",
       "      <td>rs198851</td>\n",
       "      <td>G</td>\n",
       "      <td>T</td>\n",
       "      <td>0.84852</td>\n",
       "      <td>26104404</td>\n",
       "      <td>6:26104404:T:G (rs198851)</td>\n",
       "      <td>0.89</td>\n",
       "      <td>rs198851</td>\n",
       "      <td>T</td>\n",
       "      <td>G</td>\n",
       "      <td>True</td>\n",
       "      <td>26104404.0</td>\n",
       "      <td>chr6_26104404_T_G</td>\n",
       "      <td>0.89002</td>\n",
       "    </tr>\n",
       "  </tbody>\n",
       "</table>\n",
       "</div>"
      ],
      "text/plain": [
       "    chromosome  hg19_position      rsid ea nea      eaf  hg38_position  \\\n",
       "72           6       26104632  rs198851  T   G  0.15148       26104404   \n",
       "73           6       26104632  rs198851  G   T  0.84852       26104404   \n",
       "\n",
       "                  finn_format  finn_af finn_rsid finn_ref finn_alt  match  \\\n",
       "72  6:26104404:T:G (rs198851)     0.89  rs198851        T        G   True   \n",
       "73  6:26104404:T:G (rs198851)     0.89  rs198851        T        G   True   \n",
       "\n",
       "     finn_hg38     sandbox_format  sandbox_af  \n",
       "72  26104404.0  chr6_26104404_T_G     0.89002  \n",
       "73  26104404.0  chr6_26104404_T_G     0.89002  "
      ]
     },
     "execution_count": 62,
     "metadata": {},
     "output_type": "execute_result"
    }
   ],
   "source": [
    "af[af.sandbox_format == 'chr6_26104404_T_G']"
   ]
  },
  {
   "cell_type": "code",
   "execution_count": 4,
   "id": "e8c18ff2-5e1c-4d79-a574-0112dc80681d",
   "metadata": {},
   "outputs": [],
   "source": [
    "af.to_excel(file_dir+'select_snp_af.xlsx', index = False)"
   ]
  },
  {
   "cell_type": "code",
   "execution_count": 35,
   "id": "cb7a824e-961d-4074-84e2-01babda31c38",
   "metadata": {},
   "outputs": [
    {
     "data": {
      "text/plain": [
       "array(['chr6_26090957_A_T', 'chr6_26092913_G_A', 'chr6_26104404_T_G'],\n",
       "      dtype=object)"
      ]
     },
     "execution_count": 35,
     "metadata": {},
     "output_type": "execute_result"
    }
   ],
   "source": [
    "results.snp.unique()"
   ]
  },
  {
   "cell_type": "code",
   "execution_count": 37,
   "id": "9ced470a-931c-4290-9bb3-f9a2d03189ab",
   "metadata": {},
   "outputs": [
    {
     "data": {
      "text/html": [
       "<div>\n",
       "<style scoped>\n",
       "    .dataframe tbody tr th:only-of-type {\n",
       "        vertical-align: middle;\n",
       "    }\n",
       "\n",
       "    .dataframe tbody tr th {\n",
       "        vertical-align: top;\n",
       "    }\n",
       "\n",
       "    .dataframe thead th {\n",
       "        text-align: right;\n",
       "    }\n",
       "</style>\n",
       "<table border=\"1\" class=\"dataframe\">\n",
       "  <thead>\n",
       "    <tr style=\"text-align: right;\">\n",
       "      <th></th>\n",
       "      <th>snp</th>\n",
       "      <th>Coef.</th>\n",
       "      <th>Std.Err.</th>\n",
       "      <th>z</th>\n",
       "      <th>P&gt;|z|</th>\n",
       "      <th>outcome</th>\n",
       "      <th>n_cases</th>\n",
       "      <th>n_cohort</th>\n",
       "    </tr>\n",
       "  </thead>\n",
       "  <tbody>\n",
       "    <tr>\n",
       "      <th>268</th>\n",
       "      <td>chr6_26090957_A_T</td>\n",
       "      <td>-0.084252</td>\n",
       "      <td>0.102752</td>\n",
       "      <td>0.819953</td>\n",
       "      <td>4.122429e-01</td>\n",
       "      <td>275</td>\n",
       "      <td>2495</td>\n",
       "      <td>377360</td>\n",
       "    </tr>\n",
       "    <tr>\n",
       "      <th>1684</th>\n",
       "      <td>chr6_26092913_G_A</td>\n",
       "      <td>0.925677</td>\n",
       "      <td>0.050119</td>\n",
       "      <td>-18.469530</td>\n",
       "      <td>3.632327e-76</td>\n",
       "      <td>275</td>\n",
       "      <td>2495</td>\n",
       "      <td>377360</td>\n",
       "    </tr>\n",
       "    <tr>\n",
       "      <th>3100</th>\n",
       "      <td>chr6_26104404_T_G</td>\n",
       "      <td>-0.145452</td>\n",
       "      <td>0.042948</td>\n",
       "      <td>3.386708</td>\n",
       "      <td>7.073652e-04</td>\n",
       "      <td>275</td>\n",
       "      <td>2495</td>\n",
       "      <td>377360</td>\n",
       "    </tr>\n",
       "  </tbody>\n",
       "</table>\n",
       "</div>"
      ],
      "text/plain": [
       "                    snp     Coef.  Std.Err.          z         P>|z| outcome  \\\n",
       "268   chr6_26090957_A_T -0.084252  0.102752   0.819953  4.122429e-01     275   \n",
       "1684  chr6_26092913_G_A  0.925677  0.050119 -18.469530  3.632327e-76     275   \n",
       "3100  chr6_26104404_T_G -0.145452  0.042948   3.386708  7.073652e-04     275   \n",
       "\n",
       "      n_cases  n_cohort  \n",
       "268      2495    377360  \n",
       "1684     2495    377360  \n",
       "3100     2495    377360  "
      ]
     },
     "execution_count": 37,
     "metadata": {},
     "output_type": "execute_result"
    }
   ],
   "source": [
    "results[results.outcome == '275']"
   ]
  },
  {
   "cell_type": "code",
   "execution_count": 38,
   "id": "305be474-26f5-4388-850f-6ef3b4c798ad",
   "metadata": {},
   "outputs": [
    {
     "data": {
      "text/plain": [
       "snp         chr6_26090957_A_T\n",
       "Coef.               -0.024645\n",
       "Std.Err.             0.025668\n",
       "z                    0.960125\n",
       "P>|z|                0.336992\n",
       "outcome                   008\n",
       "n_cases                 42553\n",
       "n_cohort               377360\n",
       "Name: 0, dtype: object"
      ]
     },
     "execution_count": 38,
     "metadata": {},
     "output_type": "execute_result"
    }
   ],
   "source": [
    "results.iloc[0]"
   ]
  },
  {
   "cell_type": "code",
   "execution_count": null,
   "id": "62b7de03-e365-42a7-94ae-d481c8e77fcf",
   "metadata": {},
   "outputs": [],
   "source": []
  }
 ],
 "metadata": {
  "kernelspec": {
   "display_name": "Python 3 (ipykernel)",
   "language": "python",
   "name": "python3"
  },
  "language_info": {
   "codemirror_mode": {
    "name": "ipython",
    "version": 3
   },
   "file_extension": ".py",
   "mimetype": "text/x-python",
   "name": "python",
   "nbconvert_exporter": "python",
   "pygments_lexer": "ipython3",
   "version": "3.9.12"
  }
 },
 "nbformat": 4,
 "nbformat_minor": 5
}
